{
  "nbformat": 4,
  "nbformat_minor": 0,
  "metadata": {
    "colab": {
      "provenance": [],
      "authorship_tag": "ABX9TyNkEL9Bxi6t64TggZFMMRpt",
      "include_colab_link": true
    },
    "kernelspec": {
      "name": "python3",
      "display_name": "Python 3"
    },
    "language_info": {
      "name": "python"
    },
    "accelerator": "GPU",
    "gpuClass": "standard"
  },
  "cells": [
    {
      "cell_type": "markdown",
      "metadata": {
        "id": "view-in-github",
        "colab_type": "text"
      },
      "source": [
        "<a href=\"https://colab.research.google.com/github/hibatallahk/DistFL/blob/main/FedAvg_Honest.ipynb\" target=\"_parent\"><img src=\"https://colab.research.google.com/assets/colab-badge.svg\" alt=\"Open In Colab\"/></a>"
      ]
    },
    {
      "cell_type": "code",
      "source": [
        "from scipy.stats import zscore                  "
      ],
      "metadata": {
        "id": "x_ETha0q97m2"
      },
      "execution_count": 1,
      "outputs": []
    },
    {
      "cell_type": "code",
      "source": [
        "#Import all libraries\n",
        "import matplotlib.pyplot as plt\n",
        "import time\n",
        "import os\n",
        "import numpy as np\n",
        "from numpy import asarray\n",
        "import pandas as pd\n",
        "import seaborn as sns   #visualization\n",
        "sns.set(style=\"ticks\", color_codes=True)\n",
        "import warnings\n",
        "warnings.filterwarnings('ignore')\n",
        "import glob\n",
        "import psutil\n",
        "import csv\n",
        "from itertools import repeat\n",
        "from PIL import Image"
      ],
      "metadata": {
        "id": "U1HASBf1_saG"
      },
      "execution_count": 2,
      "outputs": []
    },
    {
      "cell_type": "code",
      "source": [
        "from sklearn.preprocessing import OneHotEncoder\n",
        "from sklearn.preprocessing import LabelEncoder\n",
        "from sklearn.model_selection import train_test_split\n",
        "from sklearn.preprocessing import StandardScaler\n",
        "from sklearn.preprocessing import MinMaxScaler\n",
        "from sklearn.metrics import accuracy_score, f1_score, precision_score, recall_score, classification_report, confusion_matrix\n",
        "from sklearn.preprocessing import OneHotEncoder\n",
        "from sklearn.preprocessing import LabelEncoder\n",
        "import tensorflow as tf\n",
        "from tensorflow import keras\n",
        "from tensorflow.keras import layers\n",
        "from tensorflow.keras.models import Sequential, load_model\n",
        "from tensorflow.keras.layers import Dense, Activation\n",
        "from tensorflow.keras.utils import to_categorical\n",
        "from tensorflow.keras.layers import Dropout, GaussianNoise\n",
        "from tensorflow.keras.layers import Flatten, BatchNormalization\n",
        "from tensorflow.keras.layers import Convolution2D, Conv1D\n",
        "from tensorflow.keras.layers import MaxPooling2D, MaxPooling1D\n",
        "from tensorflow.keras.callbacks import ModelCheckpoint, EarlyStopping, History\n",
        "from tensorflow.keras import backend as K\n",
        "from keras.utils import np_utils\n",
        "from sklearn.model_selection import GridSearchCV\n",
        "from keras.wrappers.scikit_learn import KerasClassifier"
      ],
      "metadata": {
        "id": "ga-Nyr0x_u8q"
      },
      "execution_count": 3,
      "outputs": []
    },
    {
      "cell_type": "code",
      "source": [
        "from google.colab import drive\n",
        "drive.mount('/content/drive')"
      ],
      "metadata": {
        "colab": {
          "base_uri": "https://localhost:8080/"
        },
        "id": "K8afV7I1-pT8",
        "outputId": "e63ba631-d97e-4f73-e06d-bf3692ab784e"
      },
      "execution_count": 4,
      "outputs": [
        {
          "output_type": "stream",
          "name": "stdout",
          "text": [
            "Mounted at /content/drive\n"
          ]
        }
      ]
    },
    {
      "cell_type": "code",
      "source": [
        "path1_15 = \"/content/drive/MyDrive/leak_pipe/Leak 1_15m.npy\"\n",
        "path2_15 = \"/content/drive/MyDrive/leak_pipe/Leak 2_15m.npy\"\n",
        "path3_15 = \"/content/drive/MyDrive/leak_pipe/Leak 3_15m.npy\"\n",
        "######################################################\n",
        "path1_30 = \"/content/drive/MyDrive/leak_pipe/Leak 1_30m.npy\"\n",
        "path2_30 = \"/content/drive/MyDrive/leak_pipe/Leak 2_30m.npy\"\n",
        "path3_30 = \"/content/drive/MyDrive/leak_pipe/Leak 3_30m.npy\"\n",
        "#######################################################\n",
        "path1_50 = \"/content/drive/MyDrive/leak_pipe/Leak 1_50m.npy\"\n",
        "path2_50 = \"/content/drive/MyDrive/leak_pipe/Leak 2_50m.npy\"\n",
        "path3_50 = \"/content/drive/MyDrive/leak_pipe/Leak 3_50m.npy\"\n",
        "\n",
        "array1_15 = np.load(path1_15)\n",
        "array2_15 = np.load(path2_15)\n",
        "array3_15 = np.load(path3_15)\n",
        "########################\n",
        "array1_30 = np.load(path1_30)\n",
        "array2_30 = np.load(path2_30)\n",
        "array3_30 = np.load(path3_30)\n",
        "########################\n",
        "array1_50 = np.load(path1_50)\n",
        "array2_50 = np.load(path2_50)\n",
        "array3_50 = np.load(path3_50)\n",
        "\n",
        "data1_15 = pd.DataFrame(array1_15)\n",
        "data2_15 = pd.DataFrame(array2_15)\n",
        "data3_15 = pd.DataFrame(array3_15)\n",
        "#################################\n",
        "data1_30 = pd.DataFrame(array1_30)\n",
        "data2_30 = pd.DataFrame(array2_30)\n",
        "data3_30 = pd.DataFrame(array3_30)\n",
        "#################################\n",
        "data1_50 = pd.DataFrame(array1_50)\n",
        "data2_50 = pd.DataFrame(array2_50)\n",
        "data3_50 = pd.DataFrame(array3_50)\n",
        "\n",
        "data1_15.set_axis(['P1', 'Q1', 'P2', 'Q2'], axis='columns', inplace=True)\n",
        "data2_15.set_axis(['P1', 'Q1', 'P2', 'Q2'], axis='columns', inplace=True)\n",
        "data3_15.set_axis(['P1', 'Q1', 'P2', 'Q2'], axis='columns', inplace=True)\n",
        "######################################################\n",
        "data1_30.set_axis(['P1', 'Q1', 'P2', 'Q2'], axis='columns', inplace=True)\n",
        "data2_30.set_axis(['P1', 'Q1', 'P2', 'Q2'], axis='columns', inplace=True)\n",
        "data3_30.set_axis(['P1', 'Q1', 'P2', 'Q2'], axis='columns', inplace=True)\n",
        "#######################################################\n",
        "data1_50.set_axis(['P1', 'Q1', 'P2', 'Q2'], axis='columns', inplace=True)\n",
        "data2_50.set_axis(['P1', 'Q1', 'P2', 'Q2'], axis='columns', inplace=True)\n",
        "data3_50.set_axis(['P1', 'Q1', 'P2', 'Q2'], axis='columns', inplace=True)\n",
        "\n",
        "data1_15['leak'] = 0.12\n",
        "data1_30['leak'] = 0.31\n",
        "data1_50['leak'] = 0.65\n",
        "######################################################\n",
        "data2_15['leak'] = 0.29\n",
        "data2_30['leak'] = 0.39\n",
        "data2_50['leak'] = 0.60\n",
        "########################################################\n",
        "data3_15['leak'] = 0.09\n",
        "data3_30['leak'] = 0.37\n",
        "data3_50['leak'] = 0.60\n",
        "\n",
        "#frames = [data1_15, data1_30, data1_50]\n",
        "\n",
        "frames = [data1_15, data1_30, data1_50, data2_15, data2_30, data2_50, data3_15, data3_30, data3_50]\n",
        "\n",
        "df = pd.concat(frames, ignore_index=True)\n",
        "\n",
        "#df['label'] = df['leak']\n",
        "\n",
        "df.loc[df['leak'] == 0.09, 'label'] = 1\n",
        "df.loc[df['leak'] == 0.12, 'label'] = 2\n",
        "df.loc[df['leak'] == 0.29, 'label'] = 3\n",
        "df.loc[df['leak'] == 0.31, 'label'] = 4\n",
        "df.loc[df['leak'] == 0.37, 'label'] = 5\n",
        "df.loc[df['leak'] == 0.39, 'label'] = 6\n",
        "df.loc[df['leak'] == 0.60, 'label'] = 7\n",
        "df.loc[df['leak'] == 0.65, 'label'] = 8\n",
        "\n",
        "df = df.drop(['leak'], axis = 1)"
      ],
      "metadata": {
        "id": "9YlkuOdX-959"
      },
      "execution_count": 5,
      "outputs": []
    },
    {
      "cell_type": "code",
      "source": [
        "df = df.sample(frac=1)\n",
        "#df"
      ],
      "metadata": {
        "id": "AmLVx8xSM71S"
      },
      "execution_count": 6,
      "outputs": []
    },
    {
      "cell_type": "code",
      "source": [
        "df.head()"
      ],
      "metadata": {
        "colab": {
          "base_uri": "https://localhost:8080/",
          "height": 206
        },
        "id": "f4drKwj5El8M",
        "outputId": "326eb1ce-5bdb-43f2-e02d-bc422129a401"
      },
      "execution_count": 7,
      "outputs": [
        {
          "output_type": "execute_result",
          "data": {
            "text/plain": [
              "                P1        Q1         P2        Q2  label\n",
              "759812   38.828752  0.511263  33.424914  0.139346    7.0\n",
              "46098    39.989576  0.211164  40.451668  0.098528    2.0\n",
              "427930   40.234692  0.221000  38.166025  0.128831    8.0\n",
              "423963   39.811637  0.237143  38.584592  0.147145    8.0\n",
              "1143778  36.179096  0.875066  24.381948  0.319510    5.0"
            ],
            "text/html": [
              "\n",
              "  <div id=\"df-816579f2-edfb-4e1b-9212-3df94c3b55f7\">\n",
              "    <div class=\"colab-df-container\">\n",
              "      <div>\n",
              "<style scoped>\n",
              "    .dataframe tbody tr th:only-of-type {\n",
              "        vertical-align: middle;\n",
              "    }\n",
              "\n",
              "    .dataframe tbody tr th {\n",
              "        vertical-align: top;\n",
              "    }\n",
              "\n",
              "    .dataframe thead th {\n",
              "        text-align: right;\n",
              "    }\n",
              "</style>\n",
              "<table border=\"1\" class=\"dataframe\">\n",
              "  <thead>\n",
              "    <tr style=\"text-align: right;\">\n",
              "      <th></th>\n",
              "      <th>P1</th>\n",
              "      <th>Q1</th>\n",
              "      <th>P2</th>\n",
              "      <th>Q2</th>\n",
              "      <th>label</th>\n",
              "    </tr>\n",
              "  </thead>\n",
              "  <tbody>\n",
              "    <tr>\n",
              "      <th>759812</th>\n",
              "      <td>38.828752</td>\n",
              "      <td>0.511263</td>\n",
              "      <td>33.424914</td>\n",
              "      <td>0.139346</td>\n",
              "      <td>7.0</td>\n",
              "    </tr>\n",
              "    <tr>\n",
              "      <th>46098</th>\n",
              "      <td>39.989576</td>\n",
              "      <td>0.211164</td>\n",
              "      <td>40.451668</td>\n",
              "      <td>0.098528</td>\n",
              "      <td>2.0</td>\n",
              "    </tr>\n",
              "    <tr>\n",
              "      <th>427930</th>\n",
              "      <td>40.234692</td>\n",
              "      <td>0.221000</td>\n",
              "      <td>38.166025</td>\n",
              "      <td>0.128831</td>\n",
              "      <td>8.0</td>\n",
              "    </tr>\n",
              "    <tr>\n",
              "      <th>423963</th>\n",
              "      <td>39.811637</td>\n",
              "      <td>0.237143</td>\n",
              "      <td>38.584592</td>\n",
              "      <td>0.147145</td>\n",
              "      <td>8.0</td>\n",
              "    </tr>\n",
              "    <tr>\n",
              "      <th>1143778</th>\n",
              "      <td>36.179096</td>\n",
              "      <td>0.875066</td>\n",
              "      <td>24.381948</td>\n",
              "      <td>0.319510</td>\n",
              "      <td>5.0</td>\n",
              "    </tr>\n",
              "  </tbody>\n",
              "</table>\n",
              "</div>\n",
              "      <button class=\"colab-df-convert\" onclick=\"convertToInteractive('df-816579f2-edfb-4e1b-9212-3df94c3b55f7')\"\n",
              "              title=\"Convert this dataframe to an interactive table.\"\n",
              "              style=\"display:none;\">\n",
              "        \n",
              "  <svg xmlns=\"http://www.w3.org/2000/svg\" height=\"24px\"viewBox=\"0 0 24 24\"\n",
              "       width=\"24px\">\n",
              "    <path d=\"M0 0h24v24H0V0z\" fill=\"none\"/>\n",
              "    <path d=\"M18.56 5.44l.94 2.06.94-2.06 2.06-.94-2.06-.94-.94-2.06-.94 2.06-2.06.94zm-11 1L8.5 8.5l.94-2.06 2.06-.94-2.06-.94L8.5 2.5l-.94 2.06-2.06.94zm10 10l.94 2.06.94-2.06 2.06-.94-2.06-.94-.94-2.06-.94 2.06-2.06.94z\"/><path d=\"M17.41 7.96l-1.37-1.37c-.4-.4-.92-.59-1.43-.59-.52 0-1.04.2-1.43.59L10.3 9.45l-7.72 7.72c-.78.78-.78 2.05 0 2.83L4 21.41c.39.39.9.59 1.41.59.51 0 1.02-.2 1.41-.59l7.78-7.78 2.81-2.81c.8-.78.8-2.07 0-2.86zM5.41 20L4 18.59l7.72-7.72 1.47 1.35L5.41 20z\"/>\n",
              "  </svg>\n",
              "      </button>\n",
              "      \n",
              "  <style>\n",
              "    .colab-df-container {\n",
              "      display:flex;\n",
              "      flex-wrap:wrap;\n",
              "      gap: 12px;\n",
              "    }\n",
              "\n",
              "    .colab-df-convert {\n",
              "      background-color: #E8F0FE;\n",
              "      border: none;\n",
              "      border-radius: 50%;\n",
              "      cursor: pointer;\n",
              "      display: none;\n",
              "      fill: #1967D2;\n",
              "      height: 32px;\n",
              "      padding: 0 0 0 0;\n",
              "      width: 32px;\n",
              "    }\n",
              "\n",
              "    .colab-df-convert:hover {\n",
              "      background-color: #E2EBFA;\n",
              "      box-shadow: 0px 1px 2px rgba(60, 64, 67, 0.3), 0px 1px 3px 1px rgba(60, 64, 67, 0.15);\n",
              "      fill: #174EA6;\n",
              "    }\n",
              "\n",
              "    [theme=dark] .colab-df-convert {\n",
              "      background-color: #3B4455;\n",
              "      fill: #D2E3FC;\n",
              "    }\n",
              "\n",
              "    [theme=dark] .colab-df-convert:hover {\n",
              "      background-color: #434B5C;\n",
              "      box-shadow: 0px 1px 3px 1px rgba(0, 0, 0, 0.15);\n",
              "      filter: drop-shadow(0px 1px 2px rgba(0, 0, 0, 0.3));\n",
              "      fill: #FFFFFF;\n",
              "    }\n",
              "  </style>\n",
              "\n",
              "      <script>\n",
              "        const buttonEl =\n",
              "          document.querySelector('#df-816579f2-edfb-4e1b-9212-3df94c3b55f7 button.colab-df-convert');\n",
              "        buttonEl.style.display =\n",
              "          google.colab.kernel.accessAllowed ? 'block' : 'none';\n",
              "\n",
              "        async function convertToInteractive(key) {\n",
              "          const element = document.querySelector('#df-816579f2-edfb-4e1b-9212-3df94c3b55f7');\n",
              "          const dataTable =\n",
              "            await google.colab.kernel.invokeFunction('convertToInteractive',\n",
              "                                                     [key], {});\n",
              "          if (!dataTable) return;\n",
              "\n",
              "          const docLinkHtml = 'Like what you see? Visit the ' +\n",
              "            '<a target=\"_blank\" href=https://colab.research.google.com/notebooks/data_table.ipynb>data table notebook</a>'\n",
              "            + ' to learn more about interactive tables.';\n",
              "          element.innerHTML = '';\n",
              "          dataTable['output_type'] = 'display_data';\n",
              "          await google.colab.output.renderOutput(dataTable, element);\n",
              "          const docLink = document.createElement('div');\n",
              "          docLink.innerHTML = docLinkHtml;\n",
              "          element.appendChild(docLink);\n",
              "        }\n",
              "      </script>\n",
              "    </div>\n",
              "  </div>\n",
              "  "
            ]
          },
          "metadata": {},
          "execution_count": 7
        }
      ]
    },
    {
      "cell_type": "code",
      "source": [
        "# Standardize ranges\n",
        "df['P1'] = zscore(df['P1'])\n",
        "df['Q1'] = zscore(df['Q1'])\n",
        "df['P2'] = zscore(df['P2'])\n",
        "df['Q2'] = zscore(df['Q2'])"
      ],
      "metadata": {
        "id": "tdpLG_3IAqLo"
      },
      "execution_count": 8,
      "outputs": []
    },
    {
      "cell_type": "code",
      "source": [
        "df.info()"
      ],
      "metadata": {
        "colab": {
          "base_uri": "https://localhost:8080/"
        },
        "id": "-wS9ygJmBTcl",
        "outputId": "d0e6033d-3f46-44ed-8dbe-187f8e63fd8c"
      },
      "execution_count": 9,
      "outputs": [
        {
          "output_type": "stream",
          "name": "stdout",
          "text": [
            "<class 'pandas.core.frame.DataFrame'>\n",
            "Int64Index: 1350000 entries, 759812 to 206134\n",
            "Data columns (total 5 columns):\n",
            " #   Column  Non-Null Count    Dtype  \n",
            "---  ------  --------------    -----  \n",
            " 0   P1      1350000 non-null  float64\n",
            " 1   Q1      1350000 non-null  float64\n",
            " 2   P2      1350000 non-null  float64\n",
            " 3   Q2      1350000 non-null  float64\n",
            " 4   label   1350000 non-null  float64\n",
            "dtypes: float64(5)\n",
            "memory usage: 61.8 MB\n"
          ]
        }
      ]
    },
    {
      "cell_type": "code",
      "source": [
        "df"
      ],
      "metadata": {
        "colab": {
          "base_uri": "https://localhost:8080/",
          "height": 424
        },
        "id": "8war0FE1EOoy",
        "outputId": "76aa2baa-aaf1-4103-dc02-71d9aba5088b"
      },
      "execution_count": 10,
      "outputs": [
        {
          "output_type": "execute_result",
          "data": {
            "text/plain": [
              "               P1        Q1        P2        Q2  label\n",
              "759812   0.289691 -0.332206  0.042939 -0.536879    7.0\n",
              "46098    1.267513 -1.540337  1.342920 -0.810279    2.0\n",
              "427930   1.473987 -1.500737  0.920066 -0.607310    8.0\n",
              "423963   1.117626 -1.435751  0.997502 -0.484646    8.0\n",
              "1143778 -1.942251  1.132382 -1.630049  0.669844    5.0\n",
              "...           ...       ...       ...       ...    ...\n",
              "1334851 -0.585134  0.384481 -0.968450 -0.578511    7.0\n",
              "668577  -0.972308  1.058076 -0.971983  1.610719    6.0\n",
              "147726   1.211114 -1.510840  1.372151 -0.722087    2.0\n",
              "139136   1.286313 -1.541461  1.348530 -0.803926    2.0\n",
              "206134   0.043186  0.296212 -0.585094  1.158754    4.0\n",
              "\n",
              "[1350000 rows x 5 columns]"
            ],
            "text/html": [
              "\n",
              "  <div id=\"df-8d1da759-ccb8-4fff-8cbe-dc240293067d\">\n",
              "    <div class=\"colab-df-container\">\n",
              "      <div>\n",
              "<style scoped>\n",
              "    .dataframe tbody tr th:only-of-type {\n",
              "        vertical-align: middle;\n",
              "    }\n",
              "\n",
              "    .dataframe tbody tr th {\n",
              "        vertical-align: top;\n",
              "    }\n",
              "\n",
              "    .dataframe thead th {\n",
              "        text-align: right;\n",
              "    }\n",
              "</style>\n",
              "<table border=\"1\" class=\"dataframe\">\n",
              "  <thead>\n",
              "    <tr style=\"text-align: right;\">\n",
              "      <th></th>\n",
              "      <th>P1</th>\n",
              "      <th>Q1</th>\n",
              "      <th>P2</th>\n",
              "      <th>Q2</th>\n",
              "      <th>label</th>\n",
              "    </tr>\n",
              "  </thead>\n",
              "  <tbody>\n",
              "    <tr>\n",
              "      <th>759812</th>\n",
              "      <td>0.289691</td>\n",
              "      <td>-0.332206</td>\n",
              "      <td>0.042939</td>\n",
              "      <td>-0.536879</td>\n",
              "      <td>7.0</td>\n",
              "    </tr>\n",
              "    <tr>\n",
              "      <th>46098</th>\n",
              "      <td>1.267513</td>\n",
              "      <td>-1.540337</td>\n",
              "      <td>1.342920</td>\n",
              "      <td>-0.810279</td>\n",
              "      <td>2.0</td>\n",
              "    </tr>\n",
              "    <tr>\n",
              "      <th>427930</th>\n",
              "      <td>1.473987</td>\n",
              "      <td>-1.500737</td>\n",
              "      <td>0.920066</td>\n",
              "      <td>-0.607310</td>\n",
              "      <td>8.0</td>\n",
              "    </tr>\n",
              "    <tr>\n",
              "      <th>423963</th>\n",
              "      <td>1.117626</td>\n",
              "      <td>-1.435751</td>\n",
              "      <td>0.997502</td>\n",
              "      <td>-0.484646</td>\n",
              "      <td>8.0</td>\n",
              "    </tr>\n",
              "    <tr>\n",
              "      <th>1143778</th>\n",
              "      <td>-1.942251</td>\n",
              "      <td>1.132382</td>\n",
              "      <td>-1.630049</td>\n",
              "      <td>0.669844</td>\n",
              "      <td>5.0</td>\n",
              "    </tr>\n",
              "    <tr>\n",
              "      <th>...</th>\n",
              "      <td>...</td>\n",
              "      <td>...</td>\n",
              "      <td>...</td>\n",
              "      <td>...</td>\n",
              "      <td>...</td>\n",
              "    </tr>\n",
              "    <tr>\n",
              "      <th>1334851</th>\n",
              "      <td>-0.585134</td>\n",
              "      <td>0.384481</td>\n",
              "      <td>-0.968450</td>\n",
              "      <td>-0.578511</td>\n",
              "      <td>7.0</td>\n",
              "    </tr>\n",
              "    <tr>\n",
              "      <th>668577</th>\n",
              "      <td>-0.972308</td>\n",
              "      <td>1.058076</td>\n",
              "      <td>-0.971983</td>\n",
              "      <td>1.610719</td>\n",
              "      <td>6.0</td>\n",
              "    </tr>\n",
              "    <tr>\n",
              "      <th>147726</th>\n",
              "      <td>1.211114</td>\n",
              "      <td>-1.510840</td>\n",
              "      <td>1.372151</td>\n",
              "      <td>-0.722087</td>\n",
              "      <td>2.0</td>\n",
              "    </tr>\n",
              "    <tr>\n",
              "      <th>139136</th>\n",
              "      <td>1.286313</td>\n",
              "      <td>-1.541461</td>\n",
              "      <td>1.348530</td>\n",
              "      <td>-0.803926</td>\n",
              "      <td>2.0</td>\n",
              "    </tr>\n",
              "    <tr>\n",
              "      <th>206134</th>\n",
              "      <td>0.043186</td>\n",
              "      <td>0.296212</td>\n",
              "      <td>-0.585094</td>\n",
              "      <td>1.158754</td>\n",
              "      <td>4.0</td>\n",
              "    </tr>\n",
              "  </tbody>\n",
              "</table>\n",
              "<p>1350000 rows × 5 columns</p>\n",
              "</div>\n",
              "      <button class=\"colab-df-convert\" onclick=\"convertToInteractive('df-8d1da759-ccb8-4fff-8cbe-dc240293067d')\"\n",
              "              title=\"Convert this dataframe to an interactive table.\"\n",
              "              style=\"display:none;\">\n",
              "        \n",
              "  <svg xmlns=\"http://www.w3.org/2000/svg\" height=\"24px\"viewBox=\"0 0 24 24\"\n",
              "       width=\"24px\">\n",
              "    <path d=\"M0 0h24v24H0V0z\" fill=\"none\"/>\n",
              "    <path d=\"M18.56 5.44l.94 2.06.94-2.06 2.06-.94-2.06-.94-.94-2.06-.94 2.06-2.06.94zm-11 1L8.5 8.5l.94-2.06 2.06-.94-2.06-.94L8.5 2.5l-.94 2.06-2.06.94zm10 10l.94 2.06.94-2.06 2.06-.94-2.06-.94-.94-2.06-.94 2.06-2.06.94z\"/><path d=\"M17.41 7.96l-1.37-1.37c-.4-.4-.92-.59-1.43-.59-.52 0-1.04.2-1.43.59L10.3 9.45l-7.72 7.72c-.78.78-.78 2.05 0 2.83L4 21.41c.39.39.9.59 1.41.59.51 0 1.02-.2 1.41-.59l7.78-7.78 2.81-2.81c.8-.78.8-2.07 0-2.86zM5.41 20L4 18.59l7.72-7.72 1.47 1.35L5.41 20z\"/>\n",
              "  </svg>\n",
              "      </button>\n",
              "      \n",
              "  <style>\n",
              "    .colab-df-container {\n",
              "      display:flex;\n",
              "      flex-wrap:wrap;\n",
              "      gap: 12px;\n",
              "    }\n",
              "\n",
              "    .colab-df-convert {\n",
              "      background-color: #E8F0FE;\n",
              "      border: none;\n",
              "      border-radius: 50%;\n",
              "      cursor: pointer;\n",
              "      display: none;\n",
              "      fill: #1967D2;\n",
              "      height: 32px;\n",
              "      padding: 0 0 0 0;\n",
              "      width: 32px;\n",
              "    }\n",
              "\n",
              "    .colab-df-convert:hover {\n",
              "      background-color: #E2EBFA;\n",
              "      box-shadow: 0px 1px 2px rgba(60, 64, 67, 0.3), 0px 1px 3px 1px rgba(60, 64, 67, 0.15);\n",
              "      fill: #174EA6;\n",
              "    }\n",
              "\n",
              "    [theme=dark] .colab-df-convert {\n",
              "      background-color: #3B4455;\n",
              "      fill: #D2E3FC;\n",
              "    }\n",
              "\n",
              "    [theme=dark] .colab-df-convert:hover {\n",
              "      background-color: #434B5C;\n",
              "      box-shadow: 0px 1px 3px 1px rgba(0, 0, 0, 0.15);\n",
              "      filter: drop-shadow(0px 1px 2px rgba(0, 0, 0, 0.3));\n",
              "      fill: #FFFFFF;\n",
              "    }\n",
              "  </style>\n",
              "\n",
              "      <script>\n",
              "        const buttonEl =\n",
              "          document.querySelector('#df-8d1da759-ccb8-4fff-8cbe-dc240293067d button.colab-df-convert');\n",
              "        buttonEl.style.display =\n",
              "          google.colab.kernel.accessAllowed ? 'block' : 'none';\n",
              "\n",
              "        async function convertToInteractive(key) {\n",
              "          const element = document.querySelector('#df-8d1da759-ccb8-4fff-8cbe-dc240293067d');\n",
              "          const dataTable =\n",
              "            await google.colab.kernel.invokeFunction('convertToInteractive',\n",
              "                                                     [key], {});\n",
              "          if (!dataTable) return;\n",
              "\n",
              "          const docLinkHtml = 'Like what you see? Visit the ' +\n",
              "            '<a target=\"_blank\" href=https://colab.research.google.com/notebooks/data_table.ipynb>data table notebook</a>'\n",
              "            + ' to learn more about interactive tables.';\n",
              "          element.innerHTML = '';\n",
              "          dataTable['output_type'] = 'display_data';\n",
              "          await google.colab.output.renderOutput(dataTable, element);\n",
              "          const docLink = document.createElement('div');\n",
              "          docLink.innerHTML = docLinkHtml;\n",
              "          element.appendChild(docLink);\n",
              "        }\n",
              "      </script>\n",
              "    </div>\n",
              "  </div>\n",
              "  "
            ]
          },
          "metadata": {},
          "execution_count": 10
        }
      ]
    },
    {
      "cell_type": "code",
      "source": [
        "f = plt.figure(figsize=(7, 4))\n",
        "plt.matshow(df.corr(), fignum=f.number)\n",
        "plt.xticks(range(df.select_dtypes(['number']).shape[1]), df.select_dtypes(['number']).columns, fontsize=14, rotation=45)\n",
        "plt.yticks(range(df.select_dtypes(['number']).shape[1]), df.select_dtypes(['number']).columns, fontsize=14)\n",
        "cb = plt.colorbar()\n",
        "cb.ax.tick_params(labelsize=7)\n",
        "plt.title('Correlation Matrix', fontsize=20);"
      ],
      "metadata": {
        "colab": {
          "base_uri": "https://localhost:8080/",
          "height": 304
        },
        "id": "T5fXEojg9IBF",
        "outputId": "c2f823c1-575f-460f-9f34-ef949670de91"
      },
      "execution_count": 14,
      "outputs": [
        {
          "output_type": "display_data",
          "data": {
            "text/plain": [
              "<Figure size 504x288 with 2 Axes>"
            ],
            "image/png": "[encoded data removed]"
          },
          "metadata": {}
        }
      ]
    },
    {
      "cell_type": "code",
      "source": [
        "# Convert to numpy - Classification\n",
        "x_columns = df.columns.drop('label')\n",
        "x = df[x_columns].values\n",
        "dummies = pd.get_dummies(df['label']) # Classification\n",
        "products = dummies.columns\n",
        "y = dummies.values  "
      ],
      "metadata": {
        "id": "9epty_u6-i5n"
      },
      "execution_count": 15,
      "outputs": []
    },
    {
      "cell_type": "code",
      "source": [
        "Y_full = y\n",
        "X_full = x"
      ],
      "metadata": {
        "id": "mDc-iJiwoBC8"
      },
      "execution_count": 51,
      "outputs": []
    },
    {
      "cell_type": "code",
      "source": [
        "# Split into train/test\n",
        "x_train, x_test, y_train, y_test = train_test_split(    \n",
        "    X_full, Y_full, test_size=0.80, random_state=42)"
      ],
      "metadata": {
        "id": "7o84thk6Bree"
      },
      "execution_count": 52,
      "outputs": []
    },
    {
      "cell_type": "code",
      "source": [
        "x_train.shape"
      ],
      "metadata": {
        "colab": {
          "base_uri": "https://localhost:8080/"
        },
        "id": "pwevlFNxB-o-",
        "outputId": "1303733d-5c5c-47c7-f478-2cf4447f6f84"
      },
      "execution_count": 53,
      "outputs": [
        {
          "output_type": "execute_result",
          "data": {
            "text/plain": [
              "(270000, 4)"
            ]
          },
          "metadata": {},
          "execution_count": 53
        }
      ]
    },
    {
      "cell_type": "code",
      "source": [
        "from sklearn.decomposition import PCA"
      ],
      "metadata": {
        "id": "UD7FaiYQ_VDk"
      },
      "execution_count": 54,
      "outputs": []
    },
    {
      "cell_type": "code",
      "source": [
        "pca = PCA(n_components=2)\n",
        "pca.fit(x_train)\n",
        "\n",
        "plt.plot(np.cumsum(pca.explained_variance_ratio_))\n",
        "plt.xlabel('Number of components')\n",
        "plt.ylabel('Cumulative explained variance')"
      ],
      "metadata": {
        "colab": {
          "base_uri": "https://localhost:8080/",
          "height": 303
        },
        "id": "VeTvPh_r_O4j",
        "outputId": "fc695fca-b20e-441a-908a-601d62addd37"
      },
      "execution_count": 55,
      "outputs": [
        {
          "output_type": "execute_result",
          "data": {
            "text/plain": [
              "Text(0, 0.5, 'Cumulative explained variance')"
            ]
          },
          "metadata": {},
          "execution_count": 55
        },
        {
          "output_type": "display_data",
          "data": {
            "text/plain": [
              "<Figure size 432x288 with 1 Axes>"
            ],
            "image/png": "[encoded data removed]"
          },
          "metadata": {}
        }
      ]
    },
    {
      "cell_type": "code",
      "source": [
        "scaler = StandardScaler()"
      ],
      "metadata": {
        "id": "GxuKYp2rBcRa"
      },
      "execution_count": 56,
      "outputs": []
    },
    {
      "cell_type": "code",
      "source": [
        "scaler.fit(x_train)\n",
        "X_sc_train = scaler.transform(x_train)\n",
        "X_sc_test = scaler.transform(x_test)"
      ],
      "metadata": {
        "id": "dUSdw_GjBcxE"
      },
      "execution_count": 57,
      "outputs": []
    },
    {
      "cell_type": "code",
      "source": [
        "NCOMPONENTS = 2\n",
        "\n",
        "pca = PCA(n_components=NCOMPONENTS)\n",
        "X_pca_train = pca.fit_transform(X_sc_train)\n",
        "X_pca_test = pca.transform(X_sc_test)\n",
        "pca_std = np.std(X_pca_train)\n",
        "\n",
        "print(X_sc_train.shape)\n",
        "print(X_pca_train.shape)"
      ],
      "metadata": {
        "colab": {
          "base_uri": "https://localhost:8080/"
        },
        "id": "yAPfcmaY_mNV",
        "outputId": "a0a76210-93b6-46d8-8d71-9e5696f79778"
      },
      "execution_count": 58,
      "outputs": [
        {
          "output_type": "stream",
          "name": "stdout",
          "text": [
            "(270000, 4)\n",
            "(270000, 2)\n"
          ]
        }
      ]
    },
    {
      "cell_type": "code",
      "source": [
        "inv_pca = pca.inverse_transform(X_pca_train)\n",
        "inv_sc = scaler.inverse_transform(inv_pca)"
      ],
      "metadata": {
        "id": "9etGdduwBA8V"
      },
      "execution_count": 59,
      "outputs": []
    },
    {
      "cell_type": "code",
      "source": [
        "X_sc_train.shape"
      ],
      "metadata": {
        "colab": {
          "base_uri": "https://localhost:8080/"
        },
        "id": "LnMi6dn_B2hV",
        "outputId": "33b98f75-887e-43be-87e0-4e521ffc3a4a"
      },
      "execution_count": 60,
      "outputs": [
        {
          "output_type": "execute_result",
          "data": {
            "text/plain": [
              "(270000, 4)"
            ]
          },
          "metadata": {},
          "execution_count": 60
        }
      ]
    },
    {
      "cell_type": "code",
      "source": [
        "X_pca_train.shape"
      ],
      "metadata": {
        "colab": {
          "base_uri": "https://localhost:8080/"
        },
        "id": "9RebSI1eEXfr",
        "outputId": "56409dd1-5962-48f7-a64e-e17a55bcba39"
      },
      "execution_count": 61,
      "outputs": [
        {
          "output_type": "execute_result",
          "data": {
            "text/plain": [
              "(270000, 2)"
            ]
          },
          "metadata": {},
          "execution_count": 61
        }
      ]
    },
    {
      "cell_type": "code",
      "source": [
        "def createDeepModel(input_shape):\n",
        "  model = Sequential()\n",
        "  layers = 3\n",
        "  units = 369\n",
        "\n",
        "  model.add(Dense(units, input_dim=input_shape, activation='relu'))\n",
        "  model.add(GaussianNoise(pca_std))\n",
        "  for i in range(layers):\n",
        "    model.add(Dense(units, activation='relu'))\n",
        "    model.add(GaussianNoise(pca_std))\n",
        "    model.add(Dropout(0.1))\n",
        "  model.add(Dense(8, activation='softmax'))\n",
        "\n",
        "  model.compile(loss='categorical_crossentropy', optimizer='rmsprop', metrics=['accuracy'])\n",
        "  return model"
      ],
      "metadata": {
        "id": "NKUKMvV2giXT"
      },
      "execution_count": 62,
      "outputs": []
    },
    {
      "cell_type": "code",
      "source": [
        "deepModel=createDeepModel(2)"
      ],
      "metadata": {
        "id": "U0H35FuDjBVa"
      },
      "execution_count": 63,
      "outputs": []
    },
    {
      "cell_type": "code",
      "source": [
        "tf.keras.callbacks.History()\n",
        "\n",
        "deepModel.fit(X_pca_train, y_train, epochs=30, batch_size=1000, validation_split=0.15, verbose=2)"
      ],
      "metadata": {
        "id": "OWdtqZXYviXY",
        "colab": {
          "base_uri": "https://localhost:8080/"
        },
        "outputId": "20d8cbda-a813-473b-9abb-0d78906beb1a"
      },
      "execution_count": 64,
      "outputs": [
        {
          "output_type": "stream",
          "name": "stdout",
          "text": [
            "Epoch 1/30\n",
            "230/230 - 2s - loss: 1.6323 - accuracy: 0.4206 - val_loss: 1.4271 - val_accuracy: 0.3077 - 2s/epoch - 9ms/step\n",
            "Epoch 2/30\n",
            "230/230 - 1s - loss: 0.6555 - accuracy: 0.6902 - val_loss: 1.0053 - val_accuracy: 0.5189 - 1s/epoch - 4ms/step\n",
            "Epoch 3/30\n",
            "230/230 - 1s - loss: 0.4741 - accuracy: 0.7871 - val_loss: 0.8911 - val_accuracy: 0.5830 - 931ms/epoch - 4ms/step\n",
            "Epoch 4/30\n",
            "230/230 - 1s - loss: 0.3740 - accuracy: 0.8386 - val_loss: 0.6204 - val_accuracy: 0.7253 - 972ms/epoch - 4ms/step\n",
            "Epoch 5/30\n",
            "230/230 - 1s - loss: 0.3111 - accuracy: 0.8690 - val_loss: 0.6405 - val_accuracy: 0.7141 - 960ms/epoch - 4ms/step\n",
            "Epoch 6/30\n",
            "230/230 - 1s - loss: 0.2678 - accuracy: 0.8905 - val_loss: 0.5592 - val_accuracy: 0.7774 - 995ms/epoch - 4ms/step\n",
            "Epoch 7/30\n",
            "230/230 - 1s - loss: 0.2331 - accuracy: 0.9068 - val_loss: 0.5831 - val_accuracy: 0.7432 - 939ms/epoch - 4ms/step\n",
            "Epoch 8/30\n",
            "230/230 - 1s - loss: 0.2096 - accuracy: 0.9161 - val_loss: 0.6529 - val_accuracy: 0.7447 - 943ms/epoch - 4ms/step\n",
            "Epoch 9/30\n",
            "230/230 - 1s - loss: 0.1935 - accuracy: 0.9244 - val_loss: 0.5308 - val_accuracy: 0.7873 - 948ms/epoch - 4ms/step\n",
            "Epoch 10/30\n",
            "230/230 - 1s - loss: 0.1779 - accuracy: 0.9311 - val_loss: 0.6072 - val_accuracy: 0.7796 - 939ms/epoch - 4ms/step\n",
            "Epoch 11/30\n",
            "230/230 - 1s - loss: 0.1649 - accuracy: 0.9362 - val_loss: 0.4525 - val_accuracy: 0.8280 - 1s/epoch - 4ms/step\n",
            "Epoch 12/30\n",
            "230/230 - 1s - loss: 0.1566 - accuracy: 0.9403 - val_loss: 0.5828 - val_accuracy: 0.7805 - 1s/epoch - 5ms/step\n",
            "Epoch 13/30\n",
            "230/230 - 1s - loss: 0.1470 - accuracy: 0.9442 - val_loss: 0.3808 - val_accuracy: 0.8588 - 1s/epoch - 6ms/step\n",
            "Epoch 14/30\n",
            "230/230 - 1s - loss: 0.1401 - accuracy: 0.9459 - val_loss: 0.5365 - val_accuracy: 0.8132 - 1s/epoch - 5ms/step\n",
            "Epoch 15/30\n",
            "230/230 - 1s - loss: 0.1347 - accuracy: 0.9492 - val_loss: 0.5064 - val_accuracy: 0.8109 - 1s/epoch - 6ms/step\n",
            "Epoch 16/30\n",
            "230/230 - 2s - loss: 0.1290 - accuracy: 0.9518 - val_loss: 0.5376 - val_accuracy: 0.8070 - 2s/epoch - 7ms/step\n",
            "Epoch 17/30\n",
            "230/230 - 1s - loss: 0.1239 - accuracy: 0.9533 - val_loss: 0.2453 - val_accuracy: 0.9054 - 1s/epoch - 6ms/step\n",
            "Epoch 18/30\n",
            "230/230 - 1s - loss: 0.1188 - accuracy: 0.9556 - val_loss: 0.2520 - val_accuracy: 0.9040 - 1s/epoch - 5ms/step\n",
            "Epoch 19/30\n",
            "230/230 - 1s - loss: 0.1147 - accuracy: 0.9574 - val_loss: 0.2758 - val_accuracy: 0.9010 - 1s/epoch - 5ms/step\n",
            "Epoch 20/30\n",
            "230/230 - 1s - loss: 0.1115 - accuracy: 0.9586 - val_loss: 0.2941 - val_accuracy: 0.8971 - 993ms/epoch - 4ms/step\n",
            "Epoch 21/30\n",
            "230/230 - 1s - loss: 0.1072 - accuracy: 0.9601 - val_loss: 0.3335 - val_accuracy: 0.8884 - 952ms/epoch - 4ms/step\n",
            "Epoch 22/30\n",
            "230/230 - 1s - loss: 0.1053 - accuracy: 0.9614 - val_loss: 0.3685 - val_accuracy: 0.8870 - 958ms/epoch - 4ms/step\n",
            "Epoch 23/30\n",
            "230/230 - 1s - loss: 0.1012 - accuracy: 0.9629 - val_loss: 0.3667 - val_accuracy: 0.8838 - 949ms/epoch - 4ms/step\n",
            "Epoch 24/30\n",
            "230/230 - 1s - loss: 0.1003 - accuracy: 0.9633 - val_loss: 0.2847 - val_accuracy: 0.8976 - 893ms/epoch - 4ms/step\n",
            "Epoch 25/30\n",
            "230/230 - 1s - loss: 0.0973 - accuracy: 0.9641 - val_loss: 0.3412 - val_accuracy: 0.8897 - 935ms/epoch - 4ms/step\n",
            "Epoch 26/30\n",
            "230/230 - 1s - loss: 0.0957 - accuracy: 0.9650 - val_loss: 0.4658 - val_accuracy: 0.8469 - 896ms/epoch - 4ms/step\n",
            "Epoch 27/30\n",
            "230/230 - 1s - loss: 0.0928 - accuracy: 0.9665 - val_loss: 0.2353 - val_accuracy: 0.9085 - 891ms/epoch - 4ms/step\n",
            "Epoch 28/30\n",
            "230/230 - 1s - loss: 0.0923 - accuracy: 0.9661 - val_loss: 0.1596 - val_accuracy: 0.9401 - 977ms/epoch - 4ms/step\n",
            "Epoch 29/30\n",
            "230/230 - 1s - loss: 0.0901 - accuracy: 0.9678 - val_loss: 0.2450 - val_accuracy: 0.9163 - 956ms/epoch - 4ms/step\n",
            "Epoch 30/30\n",
            "230/230 - 1s - loss: 0.0886 - accuracy: 0.9684 - val_loss: 0.2463 - val_accuracy: 0.9221 - 904ms/epoch - 4ms/step\n"
          ]
        },
        {
          "output_type": "execute_result",
          "data": {
            "text/plain": [
              "<keras.callbacks.History at 0x7f46bc3aed90>"
            ]
          },
          "metadata": {},
          "execution_count": 64
        }
      ]
    },
    {
      "cell_type": "code",
      "source": [
        "xTrain=X_pca_train\n",
        "yTrain=y_train"
      ],
      "metadata": {
        "id": "tcxsBxpGflaL"
      },
      "execution_count": 65,
      "outputs": []
    },
    {
      "cell_type": "markdown",
      "source": [
        "#Federated Data"
      ],
      "metadata": {
        "id": "qYN4r5XqffmY"
      }
    },
    {
      "cell_type": "code",
      "source": [
        "xServer, xClients, yServer, yClients = train_test_split(xTrain, yTrain, test_size=0.80,random_state=523) "
      ],
      "metadata": {
        "id": "-x0P1XuzU2qZ"
      },
      "execution_count": 66,
      "outputs": []
    },
    {
      "cell_type": "code",
      "source": [
        "xServer.shape"
      ],
      "metadata": {
        "id": "OIf5y06rBnF3",
        "colab": {
          "base_uri": "https://localhost:8080/"
        },
        "outputId": "b56bd339-4fb8-4bd6-a309-6933fe2d5e0c"
      },
      "execution_count": 67,
      "outputs": [
        {
          "output_type": "execute_result",
          "data": {
            "text/plain": [
              "(54000, 2)"
            ]
          },
          "metadata": {},
          "execution_count": 67
        }
      ]
    },
    {
      "cell_type": "code",
      "source": [
        "xClients.shape"
      ],
      "metadata": {
        "id": "Y6degsHhCJdl",
        "colab": {
          "base_uri": "https://localhost:8080/"
        },
        "outputId": "99357115-e6ae-4de1-f4c6-f448fd25052a"
      },
      "execution_count": 68,
      "outputs": [
        {
          "output_type": "execute_result",
          "data": {
            "text/plain": [
              "(216000, 2)"
            ]
          },
          "metadata": {},
          "execution_count": 68
        }
      ]
    },
    {
      "cell_type": "markdown",
      "source": [
        "#FL model"
      ],
      "metadata": {
        "id": "ZrPj79ujgNxh"
      }
    },
    {
      "cell_type": "code",
      "source": [
        "algoName='CNN' #CNN, ANN, DNN"
      ],
      "metadata": {
        "id": "L5lJc9GVkdzT"
      },
      "execution_count": 69,
      "outputs": []
    },
    {
      "cell_type": "code",
      "source": [
        "def my_metrics(y_true, y_pred):\n",
        "    accuracy=accuracy_score(y_true, y_pred)\n",
        "    precision=precision_score(y_true, y_pred,average='weighted')\n",
        "    recall=recall_score(y_true, y_pred,average='weighted')\n",
        "    f1Score=f1_score(y_true, y_pred, average='weighted') \n",
        "    print(\"Accuracy  : {}\".format(accuracy))\n",
        "    #print(\"Precision : {}\".format(precision))\n",
        "    print(\"Recall : {}\".format(recall))\n",
        "    print(\"f1Score : {}\".format(f1Score))\n",
        "    cm=confusion_matrix(y_true, y_pred)\n",
        "    print(cm)\n",
        "    return accuracy, recall, f1Score"
      ],
      "metadata": {
        "id": "cuzxfD_cf3Qa"
      },
      "execution_count": 70,
      "outputs": []
    },
    {
      "cell_type": "code",
      "source": [
        "verbose, epochs, batch_size = 0, 30, 64\n",
        "activationFun='relu'\n",
        "optimizerName='Adam'"
      ],
      "metadata": {
        "id": "uRrZxYRTgS2-"
      },
      "execution_count": 71,
      "outputs": []
    },
    {
      "cell_type": "code",
      "source": [
        "num_classes = len(np.unique(yTrain))"
      ],
      "metadata": {
        "id": "bTrVk4aogWi2"
      },
      "execution_count": 72,
      "outputs": []
    },
    {
      "cell_type": "code",
      "source": [
        "def predictTestData(yPredict, yTest):\n",
        "    #Converting predictions to label\n",
        "    print(\"yPredict\",len(yPredict))\n",
        "    pred = list()\n",
        "    for i in range(len(yPredict)):\n",
        "        pred.append(np.argmax(yPredict[i]))\n",
        "    #Converting one hot encoded test label to label\n",
        "    test = list()\n",
        "    for i in range(len(yTest)):\n",
        "        test.append(np.argmax(yTest[i]))\n",
        "    return my_metrics(test, pred)"
      ],
      "metadata": {
        "id": "3HBMwu1mgbpQ"
      },
      "execution_count": 73,
      "outputs": []
    },
    {
      "cell_type": "code",
      "source": [
        "def sumOfWeights(weights):\n",
        "    return sum(map(sum, weights))"
      ],
      "metadata": {
        "id": "Bb7b9SLyiqVp"
      },
      "execution_count": 74,
      "outputs": []
    },
    {
      "cell_type": "code",
      "source": [
        "def getWeights(model):\n",
        "    allLayersWeights=deepModel.get_weights()\n",
        "    return allLayersWeights"
      ],
      "metadata": {
        "id": "LuYKl6ROitXZ"
      },
      "execution_count": 75,
      "outputs": []
    },
    {
      "cell_type": "code",
      "source": [
        "def euclidian_distance(x1,x2):\n",
        "    return np.linalg.norm(x1-x2)"
      ],
      "metadata": {
        "id": "z2AFfREFivup"
      },
      "execution_count": 76,
      "outputs": []
    },
    {
      "cell_type": "code",
      "source": [
        "def make_distance_matrix(w_server, w_client, w=60, distance = euclidian_distance):\n",
        "    \"\"\" This function returns the distance matrix between weight of server and client according to a \n",
        "    similarity measure. \n",
        "    \"\"\"    \n",
        "    #dist_m=distance.euclidean(w_server, w_client)\n",
        "\n",
        "    # Distance matrix calculation\n",
        "    n = w_client.shape[0]\n",
        "    #m = w_server.shape[0]  \n",
        "    dist_m = np.zeros(n,)\n",
        "    client_spl = list(enumerate(w_client))\n",
        "    for row, server_spl in enumerate(w_server):\n",
        "        if distance == euclidian_distance:\n",
        "            dist_row_col = euclidian_distance(server_spl, client_spl[row][1])\n",
        "            dist_m[row,] = dist_row_col\n",
        "    return dist_m"
      ],
      "metadata": {
        "id": "3yrhzZ5UiyXh"
      },
      "execution_count": 77,
      "outputs": []
    },
    {
      "cell_type": "code",
      "source": [
        "xTrain.shape[1:]"
      ],
      "metadata": {
        "colab": {
          "base_uri": "https://localhost:8080/"
        },
        "id": "fv6Uc8-LkFe2",
        "outputId": "4de970c6-ac97-4bc0-e582-53388b8f1231"
      },
      "execution_count": 78,
      "outputs": [
        {
          "output_type": "execute_result",
          "data": {
            "text/plain": [
              "(2,)"
            ]
          },
          "metadata": {},
          "execution_count": 78
        }
      ]
    },
    {
      "cell_type": "code",
      "source": [
        "# Initially train central deep model\n",
        "deepModel=createDeepModel(input_shape=4)"
      ],
      "metadata": {
        "id": "vgxWUwWzj2lw"
      },
      "execution_count": 92,
      "outputs": []
    },
    {
      "cell_type": "code",
      "source": [
        "deepModel.summary()"
      ],
      "metadata": {
        "colab": {
          "base_uri": "https://localhost:8080/"
        },
        "id": "HvmGCf20j98w",
        "outputId": "2e87ec93-22b7-49fb-d05b-a7869bb99052"
      },
      "execution_count": 93,
      "outputs": [
        {
          "output_type": "stream",
          "name": "stdout",
          "text": [
            "Model: \"sequential_4\"\n",
            "_________________________________________________________________\n",
            " Layer (type)                Output Shape              Param #   \n",
            "=================================================================\n",
            " dense_20 (Dense)            (None, 369)               1845      \n",
            "                                                                 \n",
            " gaussian_noise_16 (Gaussian  (None, 369)              0         \n",
            " Noise)                                                          \n",
            "                                                                 \n",
            " dense_21 (Dense)            (None, 369)               136530    \n",
            "                                                                 \n",
            " gaussian_noise_17 (Gaussian  (None, 369)              0         \n",
            " Noise)                                                          \n",
            "                                                                 \n",
            " dropout_12 (Dropout)        (None, 369)               0         \n",
            "                                                                 \n",
            " dense_22 (Dense)            (None, 369)               136530    \n",
            "                                                                 \n",
            " gaussian_noise_18 (Gaussian  (None, 369)              0         \n",
            " Noise)                                                          \n",
            "                                                                 \n",
            " dropout_13 (Dropout)        (None, 369)               0         \n",
            "                                                                 \n",
            " dense_23 (Dense)            (None, 369)               136530    \n",
            "                                                                 \n",
            " gaussian_noise_19 (Gaussian  (None, 369)              0         \n",
            " Noise)                                                          \n",
            "                                                                 \n",
            " dropout_14 (Dropout)        (None, 369)               0         \n",
            "                                                                 \n",
            " dense_24 (Dense)            (None, 8)                 2960      \n",
            "                                                                 \n",
            "=================================================================\n",
            "Total params: 414,395\n",
            "Trainable params: 414,395\n",
            "Non-trainable params: 0\n",
            "_________________________________________________________________\n"
          ]
        }
      ]
    },
    {
      "cell_type": "code",
      "source": [
        "numOfIterations=3 #6 #The model with those same parameters converged at iteration 49 and diverged at it 50\n",
        "numOfClients=4 #15 # 10, 15, 20, 25, 30, 35, 40, 45, 50\n",
        "modelLocation=\"Models/\"+str(algoName)+\"_Sync_users_\"+str(numOfClients)+\"_\"+activationFun+\"_\"+optimizerName+\"_FL_Model.h5\"\n",
        "accList, precList, recallList, f1List = [], [], [], []\n",
        "#The model with those same parameters converged at iteration 49 and diverged at it 50"
      ],
      "metadata": {
        "id": "u--OdTLukFoF"
      },
      "execution_count": 94,
      "outputs": []
    },
    {
      "cell_type": "code",
      "source": [
        "deepModelAggWeights=[]\n",
        "firstClientFlag=True"
      ],
      "metadata": {
        "id": "IK4kAiQxkhpY"
      },
      "execution_count": 95,
      "outputs": []
    },
    {
      "cell_type": "code",
      "source": [
        "def updateServerModel(clientModel, clientModelWeight):\n",
        "    global firstClientFlag\n",
        "    for ind in range(len(clientModelWeight)):\n",
        "        if(firstClientFlag==True):\n",
        "            deepModelAggWeights.append(clientModelWeight[ind])            \n",
        "        else:\n",
        "            deepModelAggWeights[ind]=(deepModelAggWeights[ind]+clientModelWeight[ind])"
      ],
      "metadata": {
        "id": "mIYUWzJvkljo"
      },
      "execution_count": 96,
      "outputs": []
    },
    {
      "cell_type": "code",
      "source": [
        "def updateClientsModels():\n",
        "    global clientsModelList\n",
        "    global deepModel\n",
        "    clientsModelList.clear()\n",
        "    for clientID in range(numOfClients):\n",
        "        m = keras.models.clone_model(deepModel)\n",
        "        m.set_weights(deepModel.get_weights())\n",
        "        clientsModelList.append(m)"
      ],
      "metadata": {
        "id": "cCOyuD5jmmhS"
      },
      "execution_count": 97,
      "outputs": []
    },
    {
      "cell_type": "code",
      "source": [
        "# ----- 1. Train central model initially -----\n",
        "def trainInServer():\n",
        "    #deepModel.fit(xServer, yServer, epochs=epochs, batch_size=batch_size, verbose=verbose)\n",
        "    deepModel.fit(X_full, Y_full, epochs=epochs, batch_size=batch_size, verbose=verbose)\n",
        "    deepModel.save(modelLocation)"
      ],
      "metadata": {
        "id": "9SWw99nxmo5C"
      },
      "execution_count": 98,
      "outputs": []
    },
    {
      "cell_type": "code",
      "source": [
        "deepModel.compile(\n",
        "    optimizer=\"adam\",\n",
        "    loss=\"sparse_categorical_crossentropy\",\n",
        "    metrics=[\"sparse_categorical_accuracy\"]\n",
        ")"
      ],
      "metadata": {
        "id": "SfLc_cnHmtPx"
      },
      "execution_count": 99,
      "outputs": []
    }
  ]
}