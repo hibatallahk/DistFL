{
  "nbformat": 4,
  "nbformat_minor": 0,
  "metadata": {
    "colab": {
      "provenance": [],
      "authorship_tag": "ABX9TyN2s/sxntdQ6ofatCmyR60K",
      "include_colab_link": true
    },
    "kernelspec": {
      "name": "python3",
      "display_name": "Python 3"
    },
    "language_info": {
      "name": "python"
    },
    "accelerator": "GPU",
    "gpuClass": "standard"
  },
  "cells": [
    {
      "cell_type": "markdown",
      "metadata": {
        "id": "view-in-github",
        "colab_type": "text"
      },
      "source": [
        "<a href=\"https://colab.research.google.com/github/hibatallahk/DistFL/blob/main/FedAvg_Honest.ipynb\" target=\"_parent\"><img src=\"https://colab.research.google.com/assets/colab-badge.svg\" alt=\"Open In Colab\"/></a>"
      ]
    },
    {
      "cell_type": "code",
      "source": [
        "from scipy.stats import zscore                  "
      ],
      "metadata": {
        "id": "x_ETha0q97m2"
      },
      "execution_count": 1,
      "outputs": []
    },
    {
      "cell_type": "code",
      "source": [
        "#Import all libraries\n",
        "import matplotlib.pyplot as plt\n",
        "import time\n",
        "import os\n",
        "import numpy as np\n",
        "from numpy import asarray\n",
        "import pandas as pd\n",
        "import seaborn as sns   #visualization\n",
        "sns.set(style=\"ticks\", color_codes=True)\n",
        "import warnings\n",
        "warnings.filterwarnings('ignore')\n",
        "import glob\n",
        "import psutil\n",
        "import csv\n",
        "from itertools import repeat\n",
        "from PIL import Image"
      ],
      "metadata": {
        "id": "U1HASBf1_saG"
      },
      "execution_count": 2,
      "outputs": []
    },
    {
      "cell_type": "code",
      "source": [
        "from sklearn.preprocessing import OneHotEncoder\n",
        "from sklearn.preprocessing import LabelEncoder\n",
        "from sklearn.model_selection import train_test_split\n",
        "from sklearn.preprocessing import StandardScaler\n",
        "from sklearn.preprocessing import MinMaxScaler\n",
        "from sklearn.metrics import accuracy_score, f1_score, precision_score, recall_score, classification_report, confusion_matrix\n",
        "from sklearn.preprocessing import OneHotEncoder\n",
        "from sklearn.preprocessing import LabelEncoder\n",
        "import tensorflow as tf\n",
        "from tensorflow import keras\n",
        "from tensorflow.keras import layers\n",
        "from tensorflow.keras.models import Sequential, load_model\n",
        "from tensorflow.keras.layers import Dense, Activation\n",
        "from tensorflow.keras.utils import to_categorical\n",
        "from tensorflow.keras.layers import Dropout, GaussianNoise\n",
        "from tensorflow.keras.layers import Flatten, BatchNormalization\n",
        "from tensorflow.keras.layers import Convolution2D, Conv1D\n",
        "from tensorflow.keras.layers import MaxPooling2D, MaxPooling1D\n",
        "from tensorflow.keras.callbacks import ModelCheckpoint, EarlyStopping, History\n",
        "from tensorflow.keras import backend as K\n",
        "from keras.utils import np_utils\n",
        "from sklearn.model_selection import GridSearchCV\n",
        "from keras.wrappers.scikit_learn import KerasClassifier"
      ],
      "metadata": {
        "id": "ga-Nyr0x_u8q"
      },
      "execution_count": 3,
      "outputs": []
    },
    {
      "cell_type": "code",
      "source": [
        "from google.colab import drive\n",
        "drive.mount('/content/drive')"
      ],
      "metadata": {
        "colab": {
          "base_uri": "https://localhost:8080/"
        },
        "id": "K8afV7I1-pT8",
        "outputId": "051b529e-9228-4ab4-ff90-693b69911b6f"
      },
      "execution_count": 4,
      "outputs": [
        {
          "output_type": "stream",
          "name": "stdout",
          "text": [
            "Mounted at /content/drive\n"
          ]
        }
      ]
    },
    {
      "cell_type": "code",
      "source": [
        "path1_15 = \"/content/drive/MyDrive/leak_pipe/Leak 1_15m.npy\"\n",
        "path2_15 = \"/content/drive/MyDrive/leak_pipe/Leak 2_15m.npy\"\n",
        "path3_15 = \"/content/drive/MyDrive/leak_pipe/Leak 3_15m.npy\"\n",
        "######################################################\n",
        "path1_30 = \"/content/drive/MyDrive/leak_pipe/Leak 1_30m.npy\"\n",
        "path2_30 = \"/content/drive/MyDrive/leak_pipe/Leak 2_30m.npy\"\n",
        "path3_30 = \"/content/drive/MyDrive/leak_pipe/Leak 3_30m.npy\"\n",
        "#######################################################\n",
        "path1_50 = \"/content/drive/MyDrive/leak_pipe/Leak 1_50m.npy\"\n",
        "path2_50 = \"/content/drive/MyDrive/leak_pipe/Leak 2_50m.npy\"\n",
        "path3_50 = \"/content/drive/MyDrive/leak_pipe/Leak 3_50m.npy\"\n",
        "\n",
        "array1_15 = np.load(path1_15)\n",
        "array2_15 = np.load(path2_15)\n",
        "array3_15 = np.load(path3_15)\n",
        "########################\n",
        "array1_30 = np.load(path1_30)\n",
        "array2_30 = np.load(path2_30)\n",
        "array3_30 = np.load(path3_30)\n",
        "########################\n",
        "array1_50 = np.load(path1_50)\n",
        "array2_50 = np.load(path2_50)\n",
        "array3_50 = np.load(path3_50)\n",
        "\n",
        "data1_15 = pd.DataFrame(array1_15)\n",
        "data2_15 = pd.DataFrame(array2_15)\n",
        "data3_15 = pd.DataFrame(array3_15)\n",
        "#################################\n",
        "data1_30 = pd.DataFrame(array1_30)\n",
        "data2_30 = pd.DataFrame(array2_30)\n",
        "data3_30 = pd.DataFrame(array3_30)\n",
        "#################################\n",
        "data1_50 = pd.DataFrame(array1_50)\n",
        "data2_50 = pd.DataFrame(array2_50)\n",
        "data3_50 = pd.DataFrame(array3_50)\n",
        "\n",
        "data1_15.set_axis(['P1', 'Q1', 'P2', 'Q2'], axis='columns', inplace=True)\n",
        "data2_15.set_axis(['P1', 'Q1', 'P2', 'Q2'], axis='columns', inplace=True)\n",
        "data3_15.set_axis(['P1', 'Q1', 'P2', 'Q2'], axis='columns', inplace=True)\n",
        "######################################################\n",
        "data1_30.set_axis(['P1', 'Q1', 'P2', 'Q2'], axis='columns', inplace=True)\n",
        "data2_30.set_axis(['P1', 'Q1', 'P2', 'Q2'], axis='columns', inplace=True)\n",
        "data3_30.set_axis(['P1', 'Q1', 'P2', 'Q2'], axis='columns', inplace=True)\n",
        "#######################################################\n",
        "data1_50.set_axis(['P1', 'Q1', 'P2', 'Q2'], axis='columns', inplace=True)\n",
        "data2_50.set_axis(['P1', 'Q1', 'P2', 'Q2'], axis='columns', inplace=True)\n",
        "data3_50.set_axis(['P1', 'Q1', 'P2', 'Q2'], axis='columns', inplace=True)\n",
        "\n",
        "data1_15['leak'] = 0.12\n",
        "data1_30['leak'] = 0.31\n",
        "data1_50['leak'] = 0.65\n",
        "######################################################\n",
        "data2_15['leak'] = 0.29\n",
        "data2_30['leak'] = 0.39\n",
        "data2_50['leak'] = 0.60\n",
        "########################################################\n",
        "data3_15['leak'] = 0.09\n",
        "data3_30['leak'] = 0.37\n",
        "data3_50['leak'] = 0.60\n",
        "\n",
        "#frames = [data1_15, data1_30, data1_50]\n",
        "\n",
        "frames = [data1_15, data1_30, data1_50, data2_15, data2_30, data2_50, data3_15, data3_30, data3_50]\n",
        "\n",
        "df = pd.concat(frames, ignore_index=True)\n",
        "\n",
        "#df['label'] = df['leak']\n",
        "\n",
        "df.loc[df['leak'] == 0.09, 'label'] = 1\n",
        "df.loc[df['leak'] == 0.12, 'label'] = 2\n",
        "df.loc[df['leak'] == 0.29, 'label'] = 3\n",
        "df.loc[df['leak'] == 0.31, 'label'] = 4\n",
        "df.loc[df['leak'] == 0.37, 'label'] = 5\n",
        "df.loc[df['leak'] == 0.39, 'label'] = 6\n",
        "df.loc[df['leak'] == 0.60, 'label'] = 7\n",
        "df.loc[df['leak'] == 0.65, 'label'] = 8\n",
        "\n",
        "df = df.drop(['leak'], axis = 1)"
      ],
      "metadata": {
        "id": "9YlkuOdX-959"
      },
      "execution_count": 6,
      "outputs": []
    },
    {
      "cell_type": "code",
      "source": [
        "#df = df.sample(frac=1)\n",
        "#df"
      ],
      "metadata": {
        "id": "AmLVx8xSM71S"
      },
      "execution_count": null,
      "outputs": []
    },
    {
      "cell_type": "code",
      "source": [
        "df.head()"
      ],
      "metadata": {
        "colab": {
          "base_uri": "https://localhost:8080/",
          "height": 206
        },
        "id": "f4drKwj5El8M",
        "outputId": "1398f0a1-cf60-48ba-b655-ca97a785d677"
      },
      "execution_count": 7,
      "outputs": [
        {
          "output_type": "execute_result",
          "data": {
            "text/plain": [
              "          P1        Q1         P2        Q2  label\n",
              "0  39.760016  0.248224  40.255363  0.136816    2.0\n",
              "1  39.761611  0.248128  40.256959  0.136695    2.0\n",
              "2  39.753640  0.248031  40.252171  0.136574    2.0\n",
              "3  39.761611  0.247935  40.255363  0.136454    2.0\n",
              "4  39.760016  0.247839  40.253767  0.136333    2.0"
            ],
            "text/html": [
              "\n",
              "  <div id=\"df-1d1db58b-3dbe-45f5-a727-2d17b55cb8b9\">\n",
              "    <div class=\"colab-df-container\">\n",
              "      <div>\n",
              "<style scoped>\n",
              "    .dataframe tbody tr th:only-of-type {\n",
              "        vertical-align: middle;\n",
              "    }\n",
              "\n",
              "    .dataframe tbody tr th {\n",
              "        vertical-align: top;\n",
              "    }\n",
              "\n",
              "    .dataframe thead th {\n",
              "        text-align: right;\n",
              "    }\n",
              "</style>\n",
              "<table border=\"1\" class=\"dataframe\">\n",
              "  <thead>\n",
              "    <tr style=\"text-align: right;\">\n",
              "      <th></th>\n",
              "      <th>P1</th>\n",
              "      <th>Q1</th>\n",
              "      <th>P2</th>\n",
              "      <th>Q2</th>\n",
              "      <th>label</th>\n",
              "    </tr>\n",
              "  </thead>\n",
              "  <tbody>\n",
              "    <tr>\n",
              "      <th>0</th>\n",
              "      <td>39.760016</td>\n",
              "      <td>0.248224</td>\n",
              "      <td>40.255363</td>\n",
              "      <td>0.136816</td>\n",
              "      <td>2.0</td>\n",
              "    </tr>\n",
              "    <tr>\n",
              "      <th>1</th>\n",
              "      <td>39.761611</td>\n",
              "      <td>0.248128</td>\n",
              "      <td>40.256959</td>\n",
              "      <td>0.136695</td>\n",
              "      <td>2.0</td>\n",
              "    </tr>\n",
              "    <tr>\n",
              "      <th>2</th>\n",
              "      <td>39.753640</td>\n",
              "      <td>0.248031</td>\n",
              "      <td>40.252171</td>\n",
              "      <td>0.136574</td>\n",
              "      <td>2.0</td>\n",
              "    </tr>\n",
              "    <tr>\n",
              "      <th>3</th>\n",
              "      <td>39.761611</td>\n",
              "      <td>0.247935</td>\n",
              "      <td>40.255363</td>\n",
              "      <td>0.136454</td>\n",
              "      <td>2.0</td>\n",
              "    </tr>\n",
              "    <tr>\n",
              "      <th>4</th>\n",
              "      <td>39.760016</td>\n",
              "      <td>0.247839</td>\n",
              "      <td>40.253767</td>\n",
              "      <td>0.136333</td>\n",
              "      <td>2.0</td>\n",
              "    </tr>\n",
              "  </tbody>\n",
              "</table>\n",
              "</div>\n",
              "      <button class=\"colab-df-convert\" onclick=\"convertToInteractive('df-1d1db58b-3dbe-45f5-a727-2d17b55cb8b9')\"\n",
              "              title=\"Convert this dataframe to an interactive table.\"\n",
              "              style=\"display:none;\">\n",
              "        \n",
              "  <svg xmlns=\"http://www.w3.org/2000/svg\" height=\"24px\"viewBox=\"0 0 24 24\"\n",
              "       width=\"24px\">\n",
              "    <path d=\"M0 0h24v24H0V0z\" fill=\"none\"/>\n",
              "    <path d=\"M18.56 5.44l.94 2.06.94-2.06 2.06-.94-2.06-.94-.94-2.06-.94 2.06-2.06.94zm-11 1L8.5 8.5l.94-2.06 2.06-.94-2.06-.94L8.5 2.5l-.94 2.06-2.06.94zm10 10l.94 2.06.94-2.06 2.06-.94-2.06-.94-.94-2.06-.94 2.06-2.06.94z\"/><path d=\"M17.41 7.96l-1.37-1.37c-.4-.4-.92-.59-1.43-.59-.52 0-1.04.2-1.43.59L10.3 9.45l-7.72 7.72c-.78.78-.78 2.05 0 2.83L4 21.41c.39.39.9.59 1.41.59.51 0 1.02-.2 1.41-.59l7.78-7.78 2.81-2.81c.8-.78.8-2.07 0-2.86zM5.41 20L4 18.59l7.72-7.72 1.47 1.35L5.41 20z\"/>\n",
              "  </svg>\n",
              "      </button>\n",
              "      \n",
              "  <style>\n",
              "    .colab-df-container {\n",
              "      display:flex;\n",
              "      flex-wrap:wrap;\n",
              "      gap: 12px;\n",
              "    }\n",
              "\n",
              "    .colab-df-convert {\n",
              "      background-color: #E8F0FE;\n",
              "      border: none;\n",
              "      border-radius: 50%;\n",
              "      cursor: pointer;\n",
              "      display: none;\n",
              "      fill: #1967D2;\n",
              "      height: 32px;\n",
              "      padding: 0 0 0 0;\n",
              "      width: 32px;\n",
              "    }\n",
              "\n",
              "    .colab-df-convert:hover {\n",
              "      background-color: #E2EBFA;\n",
              "      box-shadow: 0px 1px 2px rgba(60, 64, 67, 0.3), 0px 1px 3px 1px rgba(60, 64, 67, 0.15);\n",
              "      fill: #174EA6;\n",
              "    }\n",
              "\n",
              "    [theme=dark] .colab-df-convert {\n",
              "      background-color: #3B4455;\n",
              "      fill: #D2E3FC;\n",
              "    }\n",
              "\n",
              "    [theme=dark] .colab-df-convert:hover {\n",
              "      background-color: #434B5C;\n",
              "      box-shadow: 0px 1px 3px 1px rgba(0, 0, 0, 0.15);\n",
              "      filter: drop-shadow(0px 1px 2px rgba(0, 0, 0, 0.3));\n",
              "      fill: #FFFFFF;\n",
              "    }\n",
              "  </style>\n",
              "\n",
              "      <script>\n",
              "        const buttonEl =\n",
              "          document.querySelector('#df-1d1db58b-3dbe-45f5-a727-2d17b55cb8b9 button.colab-df-convert');\n",
              "        buttonEl.style.display =\n",
              "          google.colab.kernel.accessAllowed ? 'block' : 'none';\n",
              "\n",
              "        async function convertToInteractive(key) {\n",
              "          const element = document.querySelector('#df-1d1db58b-3dbe-45f5-a727-2d17b55cb8b9');\n",
              "          const dataTable =\n",
              "            await google.colab.kernel.invokeFunction('convertToInteractive',\n",
              "                                                     [key], {});\n",
              "          if (!dataTable) return;\n",
              "\n",
              "          const docLinkHtml = 'Like what you see? Visit the ' +\n",
              "            '<a target=\"_blank\" href=https://colab.research.google.com/notebooks/data_table.ipynb>data table notebook</a>'\n",
              "            + ' to learn more about interactive tables.';\n",
              "          element.innerHTML = '';\n",
              "          dataTable['output_type'] = 'display_data';\n",
              "          await google.colab.output.renderOutput(dataTable, element);\n",
              "          const docLink = document.createElement('div');\n",
              "          docLink.innerHTML = docLinkHtml;\n",
              "          element.appendChild(docLink);\n",
              "        }\n",
              "      </script>\n",
              "    </div>\n",
              "  </div>\n",
              "  "
            ]
          },
          "metadata": {},
          "execution_count": 7
        }
      ]
    },
    {
      "cell_type": "code",
      "source": [
        "# Standardize ranges\n",
        "df['P1'] = zscore(df['P1'])\n",
        "df['Q1'] = zscore(df['Q1'])\n",
        "df['P2'] = zscore(df['P2'])\n",
        "df['Q2'] = zscore(df['Q2'])"
      ],
      "metadata": {
        "id": "tdpLG_3IAqLo"
      },
      "execution_count": 8,
      "outputs": []
    },
    {
      "cell_type": "code",
      "source": [
        "df.info()"
      ],
      "metadata": {
        "colab": {
          "base_uri": "https://localhost:8080/"
        },
        "id": "-wS9ygJmBTcl",
        "outputId": "decf4be9-3c00-4a24-c6d3-4d05448f0668"
      },
      "execution_count": 9,
      "outputs": [
        {
          "output_type": "stream",
          "name": "stdout",
          "text": [
            "<class 'pandas.core.frame.DataFrame'>\n",
            "RangeIndex: 1350000 entries, 0 to 1349999\n",
            "Data columns (total 5 columns):\n",
            " #   Column  Non-Null Count    Dtype  \n",
            "---  ------  --------------    -----  \n",
            " 0   P1      1350000 non-null  float64\n",
            " 1   Q1      1350000 non-null  float64\n",
            " 2   P2      1350000 non-null  float64\n",
            " 3   Q2      1350000 non-null  float64\n",
            " 4   label   1350000 non-null  float64\n",
            "dtypes: float64(5)\n",
            "memory usage: 51.5 MB\n"
          ]
        }
      ]
    },
    {
      "cell_type": "code",
      "source": [
        "df"
      ],
      "metadata": {
        "colab": {
          "base_uri": "https://localhost:8080/",
          "height": 424
        },
        "id": "8war0FE1EOoy",
        "outputId": "f1d0ef4a-cfed-4e13-c675-378b0e43cd10"
      },
      "execution_count": 10,
      "outputs": [
        {
          "output_type": "execute_result",
          "data": {
            "text/plain": [
              "               P1        Q1        P2        Q2  label\n",
              "0        1.074144 -1.391142  1.306602 -0.553831    2.0\n",
              "1        1.075486 -1.391529  1.306897 -0.554639    2.0\n",
              "2        1.068772 -1.391916  1.306012 -0.555446    2.0\n",
              "3        1.075486 -1.392303  1.306602 -0.556254    2.0\n",
              "4        1.074144 -1.392690  1.306307 -0.557062    2.0\n",
              "...           ...       ...       ...       ...    ...\n",
              "1349995 -1.055369  0.583464 -0.958439 -0.696632    7.0\n",
              "1349996 -0.595852  0.584459 -0.929879 -0.667870    7.0\n",
              "1349997 -0.607909  0.585455 -0.949606 -0.639108    7.0\n",
              "1349998 -0.697669  0.586450 -0.955789 -0.610346    7.0\n",
              "1349999 -0.763314  0.587446 -0.970217 -0.581584    7.0\n",
              "\n",
              "[1350000 rows x 5 columns]"
            ],
            "text/html": [
              "\n",
              "  <div id=\"df-bbe32e8f-3096-4221-b698-46fc43816293\">\n",
              "    <div class=\"colab-df-container\">\n",
              "      <div>\n",
              "<style scoped>\n",
              "    .dataframe tbody tr th:only-of-type {\n",
              "        vertical-align: middle;\n",
              "    }\n",
              "\n",
              "    .dataframe tbody tr th {\n",
              "        vertical-align: top;\n",
              "    }\n",
              "\n",
              "    .dataframe thead th {\n",
              "        text-align: right;\n",
              "    }\n",
              "</style>\n",
              "<table border=\"1\" class=\"dataframe\">\n",
              "  <thead>\n",
              "    <tr style=\"text-align: right;\">\n",
              "      <th></th>\n",
              "      <th>P1</th>\n",
              "      <th>Q1</th>\n",
              "      <th>P2</th>\n",
              "      <th>Q2</th>\n",
              "      <th>label</th>\n",
              "    </tr>\n",
              "  </thead>\n",
              "  <tbody>\n",
              "    <tr>\n",
              "      <th>0</th>\n",
              "      <td>1.074144</td>\n",
              "      <td>-1.391142</td>\n",
              "      <td>1.306602</td>\n",
              "      <td>-0.553831</td>\n",
              "      <td>2.0</td>\n",
              "    </tr>\n",
              "    <tr>\n",
              "      <th>1</th>\n",
              "      <td>1.075486</td>\n",
              "      <td>-1.391529</td>\n",
              "      <td>1.306897</td>\n",
              "      <td>-0.554639</td>\n",
              "      <td>2.0</td>\n",
              "    </tr>\n",
              "    <tr>\n",
              "      <th>2</th>\n",
              "      <td>1.068772</td>\n",
              "      <td>-1.391916</td>\n",
              "      <td>1.306012</td>\n",
              "      <td>-0.555446</td>\n",
              "      <td>2.0</td>\n",
              "    </tr>\n",
              "    <tr>\n",
              "      <th>3</th>\n",
              "      <td>1.075486</td>\n",
              "      <td>-1.392303</td>\n",
              "      <td>1.306602</td>\n",
              "      <td>-0.556254</td>\n",
              "      <td>2.0</td>\n",
              "    </tr>\n",
              "    <tr>\n",
              "      <th>4</th>\n",
              "      <td>1.074144</td>\n",
              "      <td>-1.392690</td>\n",
              "      <td>1.306307</td>\n",
              "      <td>-0.557062</td>\n",
              "      <td>2.0</td>\n",
              "    </tr>\n",
              "    <tr>\n",
              "      <th>...</th>\n",
              "      <td>...</td>\n",
              "      <td>...</td>\n",
              "      <td>...</td>\n",
              "      <td>...</td>\n",
              "      <td>...</td>\n",
              "    </tr>\n",
              "    <tr>\n",
              "      <th>1349995</th>\n",
              "      <td>-1.055369</td>\n",
              "      <td>0.583464</td>\n",
              "      <td>-0.958439</td>\n",
              "      <td>-0.696632</td>\n",
              "      <td>7.0</td>\n",
              "    </tr>\n",
              "    <tr>\n",
              "      <th>1349996</th>\n",
              "      <td>-0.595852</td>\n",
              "      <td>0.584459</td>\n",
              "      <td>-0.929879</td>\n",
              "      <td>-0.667870</td>\n",
              "      <td>7.0</td>\n",
              "    </tr>\n",
              "    <tr>\n",
              "      <th>1349997</th>\n",
              "      <td>-0.607909</td>\n",
              "      <td>0.585455</td>\n",
              "      <td>-0.949606</td>\n",
              "      <td>-0.639108</td>\n",
              "      <td>7.0</td>\n",
              "    </tr>\n",
              "    <tr>\n",
              "      <th>1349998</th>\n",
              "      <td>-0.697669</td>\n",
              "      <td>0.586450</td>\n",
              "      <td>-0.955789</td>\n",
              "      <td>-0.610346</td>\n",
              "      <td>7.0</td>\n",
              "    </tr>\n",
              "    <tr>\n",
              "      <th>1349999</th>\n",
              "      <td>-0.763314</td>\n",
              "      <td>0.587446</td>\n",
              "      <td>-0.970217</td>\n",
              "      <td>-0.581584</td>\n",
              "      <td>7.0</td>\n",
              "    </tr>\n",
              "  </tbody>\n",
              "</table>\n",
              "<p>1350000 rows × 5 columns</p>\n",
              "</div>\n",
              "      <button class=\"colab-df-convert\" onclick=\"convertToInteractive('df-bbe32e8f-3096-4221-b698-46fc43816293')\"\n",
              "              title=\"Convert this dataframe to an interactive table.\"\n",
              "              style=\"display:none;\">\n",
              "        \n",
              "  <svg xmlns=\"http://www.w3.org/2000/svg\" height=\"24px\"viewBox=\"0 0 24 24\"\n",
              "       width=\"24px\">\n",
              "    <path d=\"M0 0h24v24H0V0z\" fill=\"none\"/>\n",
              "    <path d=\"M18.56 5.44l.94 2.06.94-2.06 2.06-.94-2.06-.94-.94-2.06-.94 2.06-2.06.94zm-11 1L8.5 8.5l.94-2.06 2.06-.94-2.06-.94L8.5 2.5l-.94 2.06-2.06.94zm10 10l.94 2.06.94-2.06 2.06-.94-2.06-.94-.94-2.06-.94 2.06-2.06.94z\"/><path d=\"M17.41 7.96l-1.37-1.37c-.4-.4-.92-.59-1.43-.59-.52 0-1.04.2-1.43.59L10.3 9.45l-7.72 7.72c-.78.78-.78 2.05 0 2.83L4 21.41c.39.39.9.59 1.41.59.51 0 1.02-.2 1.41-.59l7.78-7.78 2.81-2.81c.8-.78.8-2.07 0-2.86zM5.41 20L4 18.59l7.72-7.72 1.47 1.35L5.41 20z\"/>\n",
              "  </svg>\n",
              "      </button>\n",
              "      \n",
              "  <style>\n",
              "    .colab-df-container {\n",
              "      display:flex;\n",
              "      flex-wrap:wrap;\n",
              "      gap: 12px;\n",
              "    }\n",
              "\n",
              "    .colab-df-convert {\n",
              "      background-color: #E8F0FE;\n",
              "      border: none;\n",
              "      border-radius: 50%;\n",
              "      cursor: pointer;\n",
              "      display: none;\n",
              "      fill: #1967D2;\n",
              "      height: 32px;\n",
              "      padding: 0 0 0 0;\n",
              "      width: 32px;\n",
              "    }\n",
              "\n",
              "    .colab-df-convert:hover {\n",
              "      background-color: #E2EBFA;\n",
              "      box-shadow: 0px 1px 2px rgba(60, 64, 67, 0.3), 0px 1px 3px 1px rgba(60, 64, 67, 0.15);\n",
              "      fill: #174EA6;\n",
              "    }\n",
              "\n",
              "    [theme=dark] .colab-df-convert {\n",
              "      background-color: #3B4455;\n",
              "      fill: #D2E3FC;\n",
              "    }\n",
              "\n",
              "    [theme=dark] .colab-df-convert:hover {\n",
              "      background-color: #434B5C;\n",
              "      box-shadow: 0px 1px 3px 1px rgba(0, 0, 0, 0.15);\n",
              "      filter: drop-shadow(0px 1px 2px rgba(0, 0, 0, 0.3));\n",
              "      fill: #FFFFFF;\n",
              "    }\n",
              "  </style>\n",
              "\n",
              "      <script>\n",
              "        const buttonEl =\n",
              "          document.querySelector('#df-bbe32e8f-3096-4221-b698-46fc43816293 button.colab-df-convert');\n",
              "        buttonEl.style.display =\n",
              "          google.colab.kernel.accessAllowed ? 'block' : 'none';\n",
              "\n",
              "        async function convertToInteractive(key) {\n",
              "          const element = document.querySelector('#df-bbe32e8f-3096-4221-b698-46fc43816293');\n",
              "          const dataTable =\n",
              "            await google.colab.kernel.invokeFunction('convertToInteractive',\n",
              "                                                     [key], {});\n",
              "          if (!dataTable) return;\n",
              "\n",
              "          const docLinkHtml = 'Like what you see? Visit the ' +\n",
              "            '<a target=\"_blank\" href=https://colab.research.google.com/notebooks/data_table.ipynb>data table notebook</a>'\n",
              "            + ' to learn more about interactive tables.';\n",
              "          element.innerHTML = '';\n",
              "          dataTable['output_type'] = 'display_data';\n",
              "          await google.colab.output.renderOutput(dataTable, element);\n",
              "          const docLink = document.createElement('div');\n",
              "          docLink.innerHTML = docLinkHtml;\n",
              "          element.appendChild(docLink);\n",
              "        }\n",
              "      </script>\n",
              "    </div>\n",
              "  </div>\n",
              "  "
            ]
          },
          "metadata": {},
          "execution_count": 10
        }
      ]
    },
    {
      "cell_type": "code",
      "source": [
        "f = plt.figure(figsize=(10, 7))\n",
        "plt.matshow(df.corr(), fignum=f.number)\n",
        "plt.xticks(range(df.select_dtypes(['number']).shape[1]), df.select_dtypes(['number']).columns, fontsize=14, rotation=45)\n",
        "plt.yticks(range(df.select_dtypes(['number']).shape[1]), df.select_dtypes(['number']).columns, fontsize=14)\n",
        "cb = plt.colorbar()\n",
        "cb.ax.tick_params(labelsize=14)\n",
        "plt.title('Correlation Matrix', fontsize=16);"
      ],
      "metadata": {
        "colab": {
          "base_uri": "https://localhost:8080/",
          "height": 471
        },
        "id": "T5fXEojg9IBF",
        "outputId": "0789febc-b710-4374-8ae2-42c9fd5a2ad4"
      },
      "execution_count": 11,
      "outputs": [
        {
          "output_type": "display_data",
          "data": {
            "text/plain": [
              "<Figure size 720x504 with 2 Axes>"
            ],
            "image/png": "[encoded data removed]"
          },
          "metadata": {}
        }
      ]
    },
    {
      "cell_type": "code",
      "source": [
        "# Convert to numpy - Classification\n",
        "x_columns = df.columns.drop('label')\n",
        "x = df[x_columns].values\n",
        "dummies = pd.get_dummies(df['label']) # Classification\n",
        "products = dummies.columns\n",
        "y = dummies.values   "
      ],
      "metadata": {
        "id": "9epty_u6-i5n"
      },
      "execution_count": 12,
      "outputs": []
    },
    {
      "cell_type": "code",
      "source": [
        "# Split into train/test\n",
        "x_train, x_test, y_train, y_test = train_test_split(    \n",
        "    x, y, test_size=0.80, random_state=42)"
      ],
      "metadata": {
        "id": "7o84thk6Bree"
      },
      "execution_count": 13,
      "outputs": []
    },
    {
      "cell_type": "code",
      "source": [
        "x_train.shape"
      ],
      "metadata": {
        "colab": {
          "base_uri": "https://localhost:8080/"
        },
        "id": "pwevlFNxB-o-",
        "outputId": "61043af2-b2d3-46be-8288-ea8ae6118eca"
      },
      "execution_count": 14,
      "outputs": [
        {
          "output_type": "execute_result",
          "data": {
            "text/plain": [
              "(270000, 4)"
            ]
          },
          "metadata": {},
          "execution_count": 14
        }
      ]
    },
    {
      "cell_type": "code",
      "source": [
        "from sklearn.decomposition import PCA"
      ],
      "metadata": {
        "id": "UD7FaiYQ_VDk"
      },
      "execution_count": 15,
      "outputs": []
    },
    {
      "cell_type": "code",
      "source": [
        "pca = PCA(n_components=2)\n",
        "pca.fit(x_train)\n",
        "\n",
        "plt.plot(np.cumsum(pca.explained_variance_ratio_))\n",
        "plt.xlabel('Number of components')\n",
        "plt.ylabel('Cumulative explained variance')"
      ],
      "metadata": {
        "colab": {
          "base_uri": "https://localhost:8080/",
          "height": 303
        },
        "id": "VeTvPh_r_O4j",
        "outputId": "3cd2bb77-df3a-4b8b-fae9-c8afc583e8c0"
      },
      "execution_count": 16,
      "outputs": [
        {
          "output_type": "execute_result",
          "data": {
            "text/plain": [
              "Text(0, 0.5, 'Cumulative explained variance')"
            ]
          },
          "metadata": {},
          "execution_count": 16
        },
        {
          "output_type": "display_data",
          "data": {
            "text/plain": [
              "<Figure size 432x288 with 1 Axes>"
            ],
            "image/png": "[encoded data removed]"
          },
          "metadata": {}
        }
      ]
    },
    {
      "cell_type": "code",
      "source": [
        "scaler = StandardScaler()"
      ],
      "metadata": {
        "id": "GxuKYp2rBcRa"
      },
      "execution_count": 17,
      "outputs": []
    },
    {
      "cell_type": "code",
      "source": [
        "scaler.fit(x_train)\n",
        "X_sc_train = scaler.transform(x_train)\n",
        "X_sc_test = scaler.transform(x_test)"
      ],
      "metadata": {
        "id": "dUSdw_GjBcxE"
      },
      "execution_count": 18,
      "outputs": []
    },
    {
      "cell_type": "code",
      "source": [
        "NCOMPONENTS = 2\n",
        "\n",
        "pca = PCA(n_components=NCOMPONENTS)\n",
        "X_pca_train = pca.fit_transform(X_sc_train)\n",
        "X_pca_test = pca.transform(X_sc_test)\n",
        "pca_std = np.std(X_pca_train)\n",
        "\n",
        "print(X_sc_train.shape)\n",
        "print(X_pca_train.shape)"
      ],
      "metadata": {
        "colab": {
          "base_uri": "https://localhost:8080/"
        },
        "id": "yAPfcmaY_mNV",
        "outputId": "29a7ff96-27eb-4840-8c9c-1f65a3394855"
      },
      "execution_count": 19,
      "outputs": [
        {
          "output_type": "stream",
          "name": "stdout",
          "text": [
            "(270000, 4)\n",
            "(270000, 2)\n"
          ]
        }
      ]
    },
    {
      "cell_type": "code",
      "source": [
        "inv_pca = pca.inverse_transform(X_pca_train)\n",
        "inv_sc = scaler.inverse_transform(inv_pca)"
      ],
      "metadata": {
        "id": "9etGdduwBA8V"
      },
      "execution_count": 20,
      "outputs": []
    },
    {
      "cell_type": "code",
      "source": [
        "X_sc_train.shape"
      ],
      "metadata": {
        "colab": {
          "base_uri": "https://localhost:8080/"
        },
        "id": "LnMi6dn_B2hV",
        "outputId": "ca1147ba-c6f1-4581-d5cc-f3699c94f603"
      },
      "execution_count": 21,
      "outputs": [
        {
          "output_type": "execute_result",
          "data": {
            "text/plain": [
              "(270000, 4)"
            ]
          },
          "metadata": {},
          "execution_count": 21
        }
      ]
    },
    {
      "cell_type": "code",
      "source": [
        "X_pca_train.shape"
      ],
      "metadata": {
        "colab": {
          "base_uri": "https://localhost:8080/"
        },
        "id": "9RebSI1eEXfr",
        "outputId": "3a29a57c-61c4-45fb-c0f4-1199bcd439f1"
      },
      "execution_count": 22,
      "outputs": [
        {
          "output_type": "execute_result",
          "data": {
            "text/plain": [
              "(270000, 2)"
            ]
          },
          "metadata": {},
          "execution_count": 22
        }
      ]
    },
    {
      "cell_type": "code",
      "source": [
        "model = Sequential()\n",
        "layers = 3\n",
        "units = 369\n",
        "\n",
        "model.add(Dense(units, input_dim=2, activation='relu'))\n",
        "model.add(GaussianNoise(pca_std))\n",
        "for i in range(layers):\n",
        "    model.add(Dense(units, activation='relu'))\n",
        "    model.add(GaussianNoise(pca_std))\n",
        "    model.add(Dropout(0.1))\n",
        "model.add(Dense(8, activation='softmax'))\n",
        "\n",
        "model.compile(loss='categorical_crossentropy', optimizer='rmsprop', metrics=['accuracy'])"
      ],
      "metadata": {
        "id": "rlb9G3VUEnQD"
      },
      "execution_count": 25,
      "outputs": []
    },
    {
      "cell_type": "code",
      "source": [
        "tf.keras.callbacks.History()\n",
        "\n",
        "model.fit(X_pca_train, y_train, epochs=30, batch_size=1000, validation_split=0.15, verbose=2)"
      ],
      "metadata": {
        "id": "OWdtqZXYviXY",
        "colab": {
          "base_uri": "https://localhost:8080/"
        },
        "outputId": "29764ce6-9175-4bf9-c14c-91fb4d163a13"
      },
      "execution_count": 26,
      "outputs": [
        {
          "output_type": "stream",
          "name": "stdout",
          "text": [
            "Epoch 1/30\n",
            "230/230 - 2s - loss: 1.6726 - accuracy: 0.4193 - val_loss: 1.2015 - val_accuracy: 0.3865 - 2s/epoch - 8ms/step\n",
            "Epoch 2/30\n",
            "230/230 - 1s - loss: 0.6618 - accuracy: 0.6883 - val_loss: 0.9480 - val_accuracy: 0.5167 - 967ms/epoch - 4ms/step\n",
            "Epoch 3/30\n",
            "230/230 - 1s - loss: 0.4764 - accuracy: 0.7855 - val_loss: 0.7620 - val_accuracy: 0.6261 - 891ms/epoch - 4ms/step\n",
            "Epoch 4/30\n",
            "230/230 - 1s - loss: 0.3761 - accuracy: 0.8380 - val_loss: 0.7032 - val_accuracy: 0.6534 - 958ms/epoch - 4ms/step\n",
            "Epoch 5/30\n",
            "230/230 - 1s - loss: 0.3104 - accuracy: 0.8700 - val_loss: 0.7667 - val_accuracy: 0.6681 - 884ms/epoch - 4ms/step\n",
            "Epoch 6/30\n",
            "230/230 - 1s - loss: 0.2661 - accuracy: 0.8918 - val_loss: 0.4681 - val_accuracy: 0.7878 - 875ms/epoch - 4ms/step\n",
            "Epoch 7/30\n",
            "230/230 - 1s - loss: 0.2326 - accuracy: 0.9070 - val_loss: 0.5131 - val_accuracy: 0.7617 - 914ms/epoch - 4ms/step\n",
            "Epoch 8/30\n",
            "230/230 - 1s - loss: 0.2092 - accuracy: 0.9169 - val_loss: 0.5889 - val_accuracy: 0.7777 - 979ms/epoch - 4ms/step\n",
            "Epoch 9/30\n",
            "230/230 - 1s - loss: 0.1894 - accuracy: 0.9253 - val_loss: 0.5278 - val_accuracy: 0.7874 - 886ms/epoch - 4ms/step\n",
            "Epoch 10/30\n",
            "230/230 - 1s - loss: 0.1757 - accuracy: 0.9317 - val_loss: 0.6539 - val_accuracy: 0.7565 - 965ms/epoch - 4ms/step\n",
            "Epoch 11/30\n",
            "230/230 - 1s - loss: 0.1629 - accuracy: 0.9374 - val_loss: 0.3928 - val_accuracy: 0.8355 - 929ms/epoch - 4ms/step\n",
            "Epoch 12/30\n",
            "230/230 - 1s - loss: 0.1535 - accuracy: 0.9414 - val_loss: 0.4957 - val_accuracy: 0.8219 - 912ms/epoch - 4ms/step\n",
            "Epoch 13/30\n",
            "230/230 - 1s - loss: 0.1452 - accuracy: 0.9452 - val_loss: 0.3816 - val_accuracy: 0.8600 - 896ms/epoch - 4ms/step\n",
            "Epoch 14/30\n",
            "230/230 - 1s - loss: 0.1365 - accuracy: 0.9481 - val_loss: 0.5836 - val_accuracy: 0.7926 - 951ms/epoch - 4ms/step\n",
            "Epoch 15/30\n",
            "230/230 - 1s - loss: 0.1325 - accuracy: 0.9496 - val_loss: 0.3032 - val_accuracy: 0.8831 - 944ms/epoch - 4ms/step\n",
            "Epoch 16/30\n",
            "230/230 - 1s - loss: 0.1267 - accuracy: 0.9527 - val_loss: 0.5205 - val_accuracy: 0.8108 - 957ms/epoch - 4ms/step\n",
            "Epoch 17/30\n",
            "230/230 - 1s - loss: 0.1211 - accuracy: 0.9547 - val_loss: 0.5104 - val_accuracy: 0.8175 - 882ms/epoch - 4ms/step\n",
            "Epoch 18/30\n",
            "230/230 - 1s - loss: 0.1172 - accuracy: 0.9562 - val_loss: 0.3029 - val_accuracy: 0.8843 - 927ms/epoch - 4ms/step\n",
            "Epoch 19/30\n",
            "230/230 - 1s - loss: 0.1119 - accuracy: 0.9583 - val_loss: 0.3627 - val_accuracy: 0.8743 - 897ms/epoch - 4ms/step\n",
            "Epoch 20/30\n",
            "230/230 - 1s - loss: 0.1091 - accuracy: 0.9599 - val_loss: 0.3527 - val_accuracy: 0.8788 - 948ms/epoch - 4ms/step\n",
            "Epoch 21/30\n",
            "230/230 - 1s - loss: 0.1042 - accuracy: 0.9621 - val_loss: 0.2479 - val_accuracy: 0.9077 - 956ms/epoch - 4ms/step\n",
            "Epoch 22/30\n",
            "230/230 - 1s - loss: 0.1045 - accuracy: 0.9616 - val_loss: 0.2446 - val_accuracy: 0.9103 - 872ms/epoch - 4ms/step\n",
            "Epoch 23/30\n",
            "230/230 - 1s - loss: 0.1007 - accuracy: 0.9629 - val_loss: 0.2205 - val_accuracy: 0.9201 - 884ms/epoch - 4ms/step\n",
            "Epoch 24/30\n",
            "230/230 - 1s - loss: 0.0981 - accuracy: 0.9637 - val_loss: 0.2848 - val_accuracy: 0.8985 - 945ms/epoch - 4ms/step\n",
            "Epoch 25/30\n",
            "230/230 - 1s - loss: 0.0952 - accuracy: 0.9653 - val_loss: 0.2736 - val_accuracy: 0.9017 - 966ms/epoch - 4ms/step\n",
            "Epoch 26/30\n",
            "230/230 - 1s - loss: 0.0922 - accuracy: 0.9665 - val_loss: 0.2784 - val_accuracy: 0.8995 - 968ms/epoch - 4ms/step\n",
            "Epoch 27/30\n",
            "230/230 - 1s - loss: 0.0910 - accuracy: 0.9670 - val_loss: 0.3205 - val_accuracy: 0.8887 - 949ms/epoch - 4ms/step\n",
            "Epoch 28/30\n",
            "230/230 - 1s - loss: 0.0883 - accuracy: 0.9679 - val_loss: 0.2101 - val_accuracy: 0.9274 - 894ms/epoch - 4ms/step\n",
            "Epoch 29/30\n",
            "230/230 - 1s - loss: 0.0863 - accuracy: 0.9684 - val_loss: 0.3233 - val_accuracy: 0.8909 - 1s/epoch - 6ms/step\n",
            "Epoch 30/30\n",
            "230/230 - 1s - loss: 0.0846 - accuracy: 0.9688 - val_loss: 0.2002 - val_accuracy: 0.9253 - 1s/epoch - 5ms/step\n"
          ]
        },
        {
          "output_type": "execute_result",
          "data": {
            "text/plain": [
              "<keras.callbacks.History at 0x7f43a44854f0>"
            ]
          },
          "metadata": {},
          "execution_count": 26
        }
      ]
    },
    {
      "cell_type": "code",
      "source": [],
      "metadata": {
        "id": "-x0P1XuzU2qZ"
      },
      "execution_count": 26,
      "outputs": []
    },
    {
      "cell_type": "code",
      "source": [],
      "metadata": {
        "id": "OIf5y06rBnF3"
      },
      "execution_count": null,
      "outputs": []
    },
    {
      "cell_type": "code",
      "source": [],
      "metadata": {
        "id": "Y6degsHhCJdl"
      },
      "execution_count": null,
      "outputs": []
    }
  ]
}