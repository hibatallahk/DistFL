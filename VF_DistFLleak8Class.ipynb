{
  "nbformat": 4,
  "nbformat_minor": 0,
  "metadata": {
    "colab": {
      "provenance": [],
      "authorship_tag": "ABX9TyNkK4yoB3GMpNLv4TYWkrWP",
      "include_colab_link": true
    },
    "kernelspec": {
      "name": "python3",
      "display_name": "Python 3"
    },
    "language_info": {
      "name": "python"
    }
  },
  "cells": [
    {
      "cell_type": "markdown",
      "metadata": {
        "id": "view-in-github",
        "colab_type": "text"
      },
      "source": [
        "<a href=\"https://colab.research.google.com/github/hibatallahk/DistFL/blob/main/VF_DistFLleak8Class.ipynb\" target=\"_parent\"><img src=\"https://colab.research.google.com/assets/colab-badge.svg\" alt=\"Open In Colab\"/></a>"
      ]
    },
    {
      "cell_type": "markdown",
      "source": [
        "This work is the proove of concept of the DistFL framework"
      ],
      "metadata": {
        "id": "noxh4BFSYdZo"
      }
    },
    {
      "cell_type": "markdown",
      "source": [
        "# Import libraries"
      ],
      "metadata": {
        "id": "T6qnUKRMs-mE"
      }
    },
    {
      "cell_type": "code",
      "source": [
        "#Import all libraries\n",
        "import matplotlib.pyplot as plt\n",
        "import time\n",
        "import os\n",
        "import numpy as np\n",
        "from numpy import asarray\n",
        "import pandas as pd\n",
        "import seaborn as sns   #visualization\n",
        "sns.set(style=\"ticks\", color_codes=True)\n",
        "import warnings\n",
        "warnings.filterwarnings('ignore')\n",
        "import glob\n",
        "import psutil\n",
        "import csv\n",
        "from itertools import repeat\n",
        "from PIL import Image"
      ],
      "metadata": {
        "id": "fhOxz5NWYbgR"
      },
      "execution_count": 1,
      "outputs": []
    },
    {
      "cell_type": "code",
      "source": [
        "from sklearn.preprocessing import OneHotEncoder\n",
        "from sklearn.preprocessing import LabelEncoder\n",
        "from sklearn.model_selection import train_test_split\n",
        "from sklearn.preprocessing import StandardScaler\n",
        "from sklearn.preprocessing import MinMaxScaler\n",
        "from sklearn.metrics import accuracy_score, f1_score, precision_score, recall_score, classification_report, confusion_matrix\n",
        "from sklearn.preprocessing import OneHotEncoder\n",
        "from sklearn.preprocessing import LabelEncoder\n",
        "import tensorflow as tf\n",
        "from tensorflow import keras\n",
        "from tensorflow.keras import layers\n",
        "from tensorflow.keras.models import Sequential, load_model\n",
        "from tensorflow.keras.layers import Dense\n",
        "from tensorflow.keras.utils import to_categorical\n",
        "from tensorflow.keras.layers import Dropout\n",
        "from tensorflow.keras.layers import Flatten, BatchNormalization\n",
        "from tensorflow.keras.layers import Convolution2D, Conv1D\n",
        "from tensorflow.keras.layers import MaxPooling2D, MaxPooling1D\n",
        "from tensorflow.keras.callbacks import ModelCheckpoint, EarlyStopping\n",
        "from tensorflow.keras import backend as K\n",
        "from keras.utils import np_utils"
      ],
      "metadata": {
        "id": "_FUuZAF94O71"
      },
      "execution_count": 2,
      "outputs": []
    },
    {
      "cell_type": "markdown",
      "source": [
        "# Download the Leak Dataset from the cloud: \n",
        "- This Dataset is originated from [link text](https://figshare.com/articles/dataset/Single_section_of_pipe_for_leak_detection/12973148?file=24716084)\n",
        "- You can read more about the case on [link text](https://repository.up.ac.za/bitstream/handle/2263/71345/VanDerWalt_Pipe_2018.pdf?sequence=1)"
      ],
      "metadata": {
        "id": "8GUfQqnNborA"
      }
    },
    {
      "cell_type": "code",
      "source": [
        "from google.colab import drive\n",
        "drive.mount('/content/drive')"
      ],
      "metadata": {
        "colab": {
          "base_uri": "https://localhost:8080/"
        },
        "id": "SFEIWFyq4bIb",
        "outputId": "0897cf95-e902-4a93-8840-2f3fb0af97b1"
      },
      "execution_count": 3,
      "outputs": [
        {
          "output_type": "stream",
          "name": "stdout",
          "text": [
            "Mounted at /content/drive\n"
          ]
        }
      ]
    },
    {
      "cell_type": "code",
      "source": [],
      "metadata": {
        "id": "xVAUCV2otR_n"
      },
      "execution_count": null,
      "outputs": []
    }
  ]
}